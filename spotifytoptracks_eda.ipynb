{
 "cells": [
  {
   "cell_type": "markdown",
   "metadata": {},
   "source": [
    "# Exploratory Data Analysis on Top 50 Spotify Tracks\n",
    "\n",
    "To start, I am going to import pandas and numpy, and import the data from the CSV."
   ]
  },
  {
   "cell_type": "code",
   "execution_count": 331,
   "metadata": {},
   "outputs": [],
   "source": [
    "import pandas as pd\n",
    "import numpy as np\n",
    "toptracks_df = pd.read_csv('spotifytoptracks.csv', index_col=0)"
   ]
  },
  {
   "cell_type": "markdown",
   "metadata": {},
   "source": [
    "The columns appear to be named sensibly and there appears to be no missing data, plus artist and track names appear distinct (so I believe I can safely assume no duplicates). "
   ]
  },
  {
   "cell_type": "code",
   "execution_count": 332,
   "metadata": {},
   "outputs": [
    {
     "data": {
      "text/plain": [
       "Index(['artist', 'album', 'track_name', 'track_id', 'energy', 'danceability',\n",
       "       'key', 'loudness', 'acousticness', 'speechiness', 'instrumentalness',\n",
       "       'liveness', 'valence', 'tempo', 'duration_ms', 'genre'],\n",
       "      dtype='object')"
      ]
     },
     "execution_count": 332,
     "metadata": {},
     "output_type": "execute_result"
    }
   ],
   "source": [
    "toptracks_df.columns"
   ]
  },
  {
   "cell_type": "code",
   "execution_count": 333,
   "metadata": {},
   "outputs": [
    {
     "data": {
      "text/plain": [
       "artist              0\n",
       "album               0\n",
       "track_name          0\n",
       "track_id            0\n",
       "energy              0\n",
       "danceability        0\n",
       "key                 0\n",
       "loudness            0\n",
       "acousticness        0\n",
       "speechiness         0\n",
       "instrumentalness    0\n",
       "liveness            0\n",
       "valence             0\n",
       "tempo               0\n",
       "duration_ms         0\n",
       "genre               0\n",
       "dtype: int64"
      ]
     },
     "execution_count": 333,
     "metadata": {},
     "output_type": "execute_result"
    }
   ],
   "source": [
    "toptracks_df.isna().sum()"
   ]
  },
  {
   "cell_type": "code",
   "execution_count": 334,
   "metadata": {},
   "outputs": [
    {
     "data": {
      "text/plain": [
       "array(['24kGoldn', 'Ariana Grande', 'Arizona Zervas', 'BENEE', 'BTS',\n",
       "       'Bad Bunny', 'Billie Eilish', 'Black Eyed Peas', 'Cardi B',\n",
       "       'DaBaby', 'Doja Cat', 'Drake', 'Dua Lipa', 'Eminem', 'Future',\n",
       "       'Harry Styles', 'JP Saxe', 'Jawsh 685', 'Juice WRLD',\n",
       "       'Justin Bieber', 'KAROL G', 'Lady Gaga', 'Lewis Capaldi',\n",
       "       'Lil Mosey', 'Maluma', 'Maroon 5', 'Post Malone', 'Powfu',\n",
       "       'Regard', 'Roddy Ricch', 'SAINt JHN', 'Shawn Mendes', 'Surf Mesa',\n",
       "       'Surfaces', 'THE SCOTTS', 'The Weeknd', 'Tones And I', 'Topic',\n",
       "       'Travis Scott', 'Trevor Daniel'], dtype=object)"
      ]
     },
     "execution_count": 334,
     "metadata": {},
     "output_type": "execute_result"
    }
   ],
   "source": [
    "np.sort(toptracks_df.artist.unique())"
   ]
  },
  {
   "cell_type": "code",
   "execution_count": 335,
   "metadata": {},
   "outputs": [
    {
     "data": {
      "text/plain": [
       "array(['Adore You', 'Before You Go', 'Blinding Lights', 'Blueberry Faygo',\n",
       "       'Break My Heart', 'Breaking Me', 'Circles', 'Dance Monkey',\n",
       "       \"Don't Start Now\", 'Dynamite', 'Falling',\n",
       "       'Godzilla (feat. Juice WRLD)', 'HIGHEST IN THE ROOM', 'Hawái',\n",
       "       'If the World Was Ending - feat. Julia Michaels',\n",
       "       'Intentions (feat. Quavo)', 'Life Is Good (feat. Drake)',\n",
       "       'Lucid Dreams', 'Memories', 'Mood (feat. iann dior)', 'Physical',\n",
       "       'RITMO (Bad Boys For Life)', 'ROCKSTAR (feat. Roddy Ricch)',\n",
       "       'ROXANNE', 'Rain On Me (with Ariana Grande)', 'Ride It',\n",
       "       'Roses - Imanbek Remix', 'SICKO MODE', 'Safaera',\n",
       "       'Savage Love (Laxed - Siren Beat)', 'Say So', 'Señorita',\n",
       "       'Someone You Loved', 'Stuck with U (with Justin Bieber)',\n",
       "       'Sunday Best', 'Sunflower - Spider-Man: Into the Spider-Verse',\n",
       "       'Supalonely (feat. Gus Dapperton)', 'THE SCOTTS', 'The Box',\n",
       "       'Toosie Slide', 'Tusa', 'WAP (feat. Megan Thee Stallion)',\n",
       "       'Watermelon Sugar', 'Yummy', 'bad guy',\n",
       "       'death bed (coffee for your head)', 'everything i wanted',\n",
       "       'goosebumps', 'ily (i love you baby) (feat. Emilee)',\n",
       "       'lovely (with Khalid)'], dtype=object)"
      ]
     },
     "execution_count": 335,
     "metadata": {},
     "output_type": "execute_result"
    }
   ],
   "source": [
    "np.sort(toptracks_df.track_name.unique())"
   ]
  },
  {
   "cell_type": "markdown",
   "metadata": {},
   "source": [
    "However, several songs have additional artists listed in the track names. These are identified by either 'feat.' or 'with'. I am going to extract these into their own column."
   ]
  },
  {
   "cell_type": "code",
   "execution_count": 336,
   "metadata": {},
   "outputs": [
    {
     "data": {
      "text/html": [
       "<div>\n",
       "<style scoped>\n",
       "    .dataframe tbody tr th:only-of-type {\n",
       "        vertical-align: middle;\n",
       "    }\n",
       "\n",
       "    .dataframe tbody tr th {\n",
       "        vertical-align: top;\n",
       "    }\n",
       "\n",
       "    .dataframe thead th {\n",
       "        text-align: right;\n",
       "    }\n",
       "</style>\n",
       "<table border=\"1\" class=\"dataframe\">\n",
       "  <thead>\n",
       "    <tr style=\"text-align: right;\">\n",
       "      <th></th>\n",
       "      <th>artist</th>\n",
       "      <th>second_artist</th>\n",
       "    </tr>\n",
       "  </thead>\n",
       "  <tbody>\n",
       "    <tr>\n",
       "      <th>5</th>\n",
       "      <td>DaBaby</td>\n",
       "      <td>Roddy Ricch</td>\n",
       "    </tr>\n",
       "    <tr>\n",
       "      <th>14</th>\n",
       "      <td>Justin Bieber</td>\n",
       "      <td>Quavo</td>\n",
       "    </tr>\n",
       "    <tr>\n",
       "      <th>19</th>\n",
       "      <td>Future</td>\n",
       "      <td>Drake</td>\n",
       "    </tr>\n",
       "    <tr>\n",
       "      <th>23</th>\n",
       "      <td>24kGoldn</td>\n",
       "      <td>iann dior</td>\n",
       "    </tr>\n",
       "    <tr>\n",
       "      <th>27</th>\n",
       "      <td>Cardi B</td>\n",
       "      <td>Megan Thee Stallion</td>\n",
       "    </tr>\n",
       "    <tr>\n",
       "      <th>29</th>\n",
       "      <td>Eminem</td>\n",
       "      <td>Juice WRLD</td>\n",
       "    </tr>\n",
       "    <tr>\n",
       "      <th>33</th>\n",
       "      <td>BENEE</td>\n",
       "      <td>Gus Dapperton</td>\n",
       "    </tr>\n",
       "    <tr>\n",
       "      <th>34</th>\n",
       "      <td>Surf Mesa</td>\n",
       "      <td>Emilee</td>\n",
       "    </tr>\n",
       "    <tr>\n",
       "      <th>35</th>\n",
       "      <td>Lady Gaga</td>\n",
       "      <td>Ariana Grande</td>\n",
       "    </tr>\n",
       "    <tr>\n",
       "      <th>44</th>\n",
       "      <td>Billie Eilish</td>\n",
       "      <td>Khalid</td>\n",
       "    </tr>\n",
       "    <tr>\n",
       "      <th>46</th>\n",
       "      <td>Ariana Grande</td>\n",
       "      <td>Justin Bieber</td>\n",
       "    </tr>\n",
       "    <tr>\n",
       "      <th>47</th>\n",
       "      <td>JP Saxe</td>\n",
       "      <td>Julia Michaels</td>\n",
       "    </tr>\n",
       "  </tbody>\n",
       "</table>\n",
       "</div>"
      ],
      "text/plain": [
       "           artist        second_artist\n",
       "5          DaBaby          Roddy Ricch\n",
       "14  Justin Bieber                Quavo\n",
       "19         Future                Drake\n",
       "23       24kGoldn            iann dior\n",
       "27        Cardi B  Megan Thee Stallion\n",
       "29         Eminem           Juice WRLD\n",
       "33          BENEE        Gus Dapperton\n",
       "34      Surf Mesa               Emilee\n",
       "35      Lady Gaga        Ariana Grande\n",
       "44  Billie Eilish               Khalid\n",
       "46  Ariana Grande        Justin Bieber\n",
       "47        JP Saxe       Julia Michaels"
      ]
     },
     "execution_count": 336,
     "metadata": {},
     "output_type": "execute_result"
    }
   ],
   "source": [
    "import re\n",
    "\n",
    "def second_artist(r):\n",
    "    matches = re.findall(r'^.*(?:feat\\.|with) (\\w+(?: ?\\w*)*)\\)?$',r)\n",
    "    if matches:\n",
    "        return matches[0]\n",
    "    else:\n",
    "        return None\n",
    "\n",
    "toptracks_df['second_artist'] = toptracks_df.track_name.apply(second_artist)\n",
    "toptracks_df[['artist','second_artist']].head(10)\n",
    "toptracks_df[toptracks_df.second_artist.notna()][['artist','second_artist']]\n"
   ]
  },
  {
   "cell_type": "markdown",
   "metadata": {},
   "source": [
    "At least one genre (Electro-pop) has additional whitespace, so I will strip across all string (object) columns to ensure better data quality."
   ]
  },
  {
   "cell_type": "code",
   "execution_count": 337,
   "metadata": {},
   "outputs": [],
   "source": [
    "toptracks_df = toptracks_df.apply(lambda x: x.str.strip() if x.dtype == \"object\" else x)"
   ]
  },
  {
   "cell_type": "markdown",
   "metadata": {},
   "source": [
    "There are 50 observations in this data set, each with 17 features (one is extracted). Of these 17 features, 10 are numeric, 7 are categorical."
   ]
  },
  {
   "cell_type": "code",
   "execution_count": 338,
   "metadata": {},
   "outputs": [
    {
     "name": "stdout",
     "output_type": "stream",
     "text": [
      "Number of features: 17\n",
      "artist               object\n",
      "album                object\n",
      "track_name           object\n",
      "track_id             object\n",
      "energy              float64\n",
      "danceability        float64\n",
      "key                   int64\n",
      "loudness            float64\n",
      "acousticness        float64\n",
      "speechiness         float64\n",
      "instrumentalness    float64\n",
      "liveness            float64\n",
      "valence             float64\n",
      "tempo               float64\n",
      "duration_ms           int64\n",
      "genre                object\n",
      "second_artist        object\n",
      "dtype: object \n",
      "\n",
      "float64    9\n",
      "object     6\n",
      "int64      2\n",
      "Name: count, dtype: int64\n"
     ]
    }
   ],
   "source": [
    "print(\"Number of features:\", len(toptracks_df.dtypes))\n",
    "print(toptracks_df.dtypes,\"\\n\")\n",
    "print(toptracks_df.dtypes.value_counts())"
   ]
  },
  {
   "cell_type": "markdown",
   "metadata": {},
   "source": [
    "All float64 features are numeric, 1 of the int64 (duration_ms) is also numeric, and the rest are categorical. \n",
    "\n",
    "#### Numeric features\n",
    "- energy\n",
    "- danceability\n",
    "- loudness\n",
    "- acousticness\n",
    "- speechiness\n",
    "- instrumentalness\n",
    "- liveness\n",
    "- valence\n",
    "- tempo\n",
    "\n",
    "#### Categorical features\n",
    "- key\n",
    "- genre\n",
    "- artist\n",
    "- album\n",
    "- track_name\n",
    "- track_id\n",
    "\n",
    "#### Extracted data (categorical)\n",
    "- second_artist"
   ]
  },
  {
   "cell_type": "markdown",
   "metadata": {},
   "source": [
    "### Are there any artists that have more than 1 popular track? If yes, which and how many?\n",
    "Yes, 7 artists have more than 1 popular track. The highest number of tracks is 3, which 3 artists have: Billie Eilish, Dua Lipa, Travis Scott. "
   ]
  },
  {
   "cell_type": "code",
   "execution_count": 339,
   "metadata": {},
   "outputs": [
    {
     "name": "stdout",
     "output_type": "stream",
     "text": [
      "Number of artists with more than 1 top 50 track: 7\n",
      "artist\n",
      "Billie Eilish    3\n",
      "Dua Lipa         3\n",
      "Travis Scott     3\n",
      "Lewis Capaldi    2\n",
      "Harry Styles     2\n",
      "Post Malone      2\n",
      "Justin Bieber    2\n",
      "Name: track_name, dtype: int64\n"
     ]
    }
   ],
   "source": [
    "no_tracks_per_artist = toptracks_df.groupby('artist').track_name.count().sort_values(ascending=False)\n",
    "mult_track_artists = no_tracks_per_artist[no_tracks_per_artist > 1]\n",
    "print(\"Number of artists with more than 1 top 50 track:\",len(mult_track_artists))\n",
    "print(mult_track_artists)\n"
   ]
  },
  {
   "cell_type": "markdown",
   "metadata": {},
   "source": [
    "If we include artists who are the second artist on a track, this changes to 11 artists with more than 1 top 50 track. The maximum number of tracks (3) doesn't change, but an extra artist now has 3 tracks (4 total - Justin Bieber has been added)."
   ]
  },
  {
   "cell_type": "code",
   "execution_count": 340,
   "metadata": {},
   "outputs": [
    {
     "name": "stdout",
     "output_type": "stream",
     "text": [
      "Number of artists with more than 1 top 50 track (when including tracks as second artist): 11\n",
      "Billie Eilish    3.0\n",
      "Dua Lipa         3.0\n",
      "Justin Bieber    3.0\n",
      "Travis Scott     3.0\n",
      "Juice WRLD       2.0\n",
      "Drake            2.0\n",
      "Ariana Grande    2.0\n",
      "Harry Styles     2.0\n",
      "Lewis Capaldi    2.0\n",
      "Roddy Ricch      2.0\n",
      "Post Malone      2.0\n",
      "Name: track_name, dtype: float64\n"
     ]
    }
   ],
   "source": [
    "second_artist_count = toptracks_df.groupby('second_artist').track_name.count().sort_values(ascending=False)\n",
    "second_artist_incl = no_tracks_per_artist.add(second_artist_count, fill_value = 0).sort_values(ascending=False)\n",
    "print(\"Number of artists with more than 1 top 50 track (when including tracks as second artist):\",len(second_artist_incl[second_artist_incl > 1]))\n",
    "print(second_artist_incl[second_artist_incl > 1])"
   ]
  },
  {
   "cell_type": "markdown",
   "metadata": {},
   "source": [
    "## Who was the most popular artist?\n",
    "\n",
    "In order to assess this more accurately, I beleive we would require play counts. Knowing which songs were played the most would make it easier to determine which artist(s) were more popular. \n",
    "\n",
    "Without this data, the above analysis of the most popular track per artist is the best way of assessing this. I believe it's reasonable to say that being the main artist ranks above being the second artist, so we can consider the 3 artists who had 3 popular songs as the most popular artists:\n",
    "- Billie Eilish\n",
    "- Dua Lipa\n",
    "- Travis Scott"
   ]
  },
  {
   "cell_type": "markdown",
   "metadata": {},
   "source": [
    "## How many artists in total have their songs in the top 50?\n",
    "\n",
    "There are 40 artists listed as the main artist in the top 50."
   ]
  },
  {
   "cell_type": "code",
   "execution_count": 341,
   "metadata": {},
   "outputs": [
    {
     "data": {
      "text/plain": [
       "40"
      ]
     },
     "execution_count": 341,
     "metadata": {},
     "output_type": "execute_result"
    }
   ],
   "source": [
    "len(toptracks_df.artist.unique())"
   ]
  },
  {
   "cell_type": "markdown",
   "metadata": {},
   "source": [
    "If we include second artists, this increase to 47 artists."
   ]
  },
  {
   "cell_type": "code",
   "execution_count": 342,
   "metadata": {},
   "outputs": [
    {
     "data": {
      "text/plain": [
       "47"
      ]
     },
     "execution_count": 342,
     "metadata": {},
     "output_type": "execute_result"
    }
   ],
   "source": [
    "len(np.union1d(toptracks_df.artist.unique(), toptracks_df.second_artist.dropna().unique()))"
   ]
  },
  {
   "cell_type": "markdown",
   "metadata": {},
   "source": [
    "## Are there any albums that have more than 1 popular track? If yes, which and how many?\n",
    "\n",
    "4 albums have more than 1 track in the top 50. The most tracks for a single album is 3, which only the album Future Nostalgia managed. The artist is Dua Lipa. "
   ]
  },
  {
   "cell_type": "code",
   "execution_count": 343,
   "metadata": {},
   "outputs": [
    {
     "name": "stdout",
     "output_type": "stream",
     "text": [
      "Number of albums with more than 1 track: 4\n",
      "album\n",
      "Future Nostalgia        3\n",
      "Hollywood's Bleeding    2\n",
      "Fine Line               2\n",
      "Changes                 2\n",
      "Name: count, dtype: int64\n"
     ]
    }
   ],
   "source": [
    "album_counts = toptracks_df.album.value_counts().sort_values(ascending=False)\n",
    "print(\"Number of albums with more than 1 track:\", len(album_counts[album_counts > 1]))\n",
    "print(album_counts[album_counts > 1])"
   ]
  },
  {
   "cell_type": "code",
   "execution_count": 344,
   "metadata": {},
   "outputs": [
    {
     "data": {
      "text/plain": [
       "'Dua Lipa'"
      ]
     },
     "execution_count": 344,
     "metadata": {},
     "output_type": "execute_result"
    }
   ],
   "source": [
    "toptracks_df[toptracks_df['album'] == 'Future Nostalgia'].artist.unique()[0]"
   ]
  },
  {
   "cell_type": "markdown",
   "metadata": {},
   "source": [
    "## How many albums in total have their songs in the top 50?\n",
    "\n",
    "45 albums have songs in the top 50. "
   ]
  },
  {
   "cell_type": "code",
   "execution_count": 345,
   "metadata": {},
   "outputs": [
    {
     "data": {
      "text/plain": [
       "45"
      ]
     },
     "execution_count": 345,
     "metadata": {},
     "output_type": "execute_result"
    }
   ],
   "source": [
    "len(album_counts)"
   ]
  },
  {
   "cell_type": "markdown",
   "metadata": {},
   "source": [
    "## Which tracks have a danceability score above 0.7?\n",
    "\n",
    "32 tracks have a danceability score more than 0.7, with WAP (feat. Megan Thee Stallion) being the most danceable track.\n"
   ]
  },
  {
   "cell_type": "code",
   "execution_count": 346,
   "metadata": {},
   "outputs": [
    {
     "name": "stdout",
     "output_type": "stream",
     "text": [
      "Number of danceable tracks: 32\n",
      "                                               danceability\n",
      "track_name                                                 \n",
      "WAP (feat. Megan Thee Stallion)                       0.935\n",
      "The Box                                               0.896\n",
      "Ride It                                               0.880\n",
      "Sunday Best                                           0.878\n",
      "Supalonely (feat. Gus Dapperton)                      0.862\n",
      "goosebumps                                            0.841\n",
      "SICKO MODE                                            0.834\n",
      "Toosie Slide                                          0.830\n",
      "Dance Monkey                                          0.825\n",
      "Godzilla (feat. Juice WRLD)                           0.808\n",
      "Intentions (feat. Quavo)                              0.806\n",
      "Tusa                                                  0.803\n",
      "Life Is Good (feat. Drake)                            0.795\n",
      "Don't Start Now                                       0.793\n",
      "Breaking Me                                           0.789\n",
      "Say So                                                0.787\n",
      "Roses - Imanbek Remix                                 0.785\n",
      "Falling                                               0.784\n",
      "Hawái                                                 0.783\n",
      "Blueberry Faygo                                       0.774\n",
      "Savage Love (Laxed - Siren Beat)                      0.767\n",
      "Memories                                              0.764\n",
      "Señorita                                              0.759\n",
      "Sunflower - Spider-Man: Into the Spider-Verse         0.755\n",
      "Dynamite                                              0.746\n",
      "ROCKSTAR (feat. Roddy Ricch)                          0.746\n",
      "Break My Heart                                        0.730\n",
      "death bed (coffee for your head)                      0.726\n",
      "RITMO (Bad Boys For Life)                             0.723\n",
      "THE SCOTTS                                            0.716\n",
      "everything i wanted                                   0.704\n",
      "bad guy                                               0.701\n"
     ]
    }
   ],
   "source": [
    "danceable_tracks = toptracks_df[toptracks_df['danceability'] > 0.7][['track_name','danceability']].sort_values(by='danceability',ascending=False).set_index('track_name')\n",
    "print(\"Number of danceable tracks:\", len(danceable_tracks))\n",
    "print(danceable_tracks)"
   ]
  },
  {
   "cell_type": "markdown",
   "metadata": {},
   "source": [
    "## Which tracks have a danceability score below 0.4?\n",
    "\n",
    "Only 1 song (lovely (with Khalid)) has a low danceability score."
   ]
  },
  {
   "cell_type": "code",
   "execution_count": 347,
   "metadata": {},
   "outputs": [
    {
     "name": "stdout",
     "output_type": "stream",
     "text": [
      "Number of un-danceable tracks: 1\n",
      "                      danceability\n",
      "track_name                        \n",
      "lovely (with Khalid)         0.351\n"
     ]
    }
   ],
   "source": [
    "undanceable_tracks = toptracks_df[toptracks_df['danceability'] < 0.4][['track_name','danceability']].sort_values(by='danceability',ascending=False).set_index('track_name')\n",
    "print(\"Number of un-danceable tracks:\", len(undanceable_tracks))\n",
    "print(undanceable_tracks)"
   ]
  },
  {
   "cell_type": "markdown",
   "metadata": {},
   "source": [
    "## Average danceability"
   ]
  },
  {
   "cell_type": "code",
   "execution_count": 348,
   "metadata": {},
   "outputs": [
    {
     "name": "stdout",
     "output_type": "stream",
     "text": [
      "Mean danceability: 0.717\n",
      "Median danceability: 0.746\n"
     ]
    }
   ],
   "source": [
    "print(f\"Mean danceability: {toptracks_df.danceability.mean():.3f}\")\n",
    "print(f\"Median danceability: {toptracks_df.danceability.median():.3f}\")"
   ]
  },
  {
   "cell_type": "markdown",
   "metadata": {},
   "source": [
    "## Which tracks have their loudness above -5?\n",
    "\n",
    "There are 19 loud tracks, with the loudest being Tusa. "
   ]
  },
  {
   "cell_type": "code",
   "execution_count": 349,
   "metadata": {},
   "outputs": [
    {
     "name": "stdout",
     "output_type": "stream",
     "text": [
      "Number of loud tracks: 19\n",
      "                                               loudness\n",
      "track_name                                             \n",
      "Tusa                                             -3.280\n",
      "goosebumps                                       -3.370\n",
      "Break My Heart                                   -3.434\n",
      "Hawái                                            -3.454\n",
      "Circles                                          -3.497\n",
      "Mood (feat. iann dior)                           -3.558\n",
      "Adore You                                        -3.675\n",
      "SICKO MODE                                       -3.714\n",
      "Physical                                         -3.756\n",
      "Rain On Me (with Ariana Grande)                  -3.764\n",
      "Safaera                                          -4.074\n",
      "Watermelon Sugar                                 -4.209\n",
      "Ride It                                          -4.258\n",
      "Sunflower - Spider-Man: Into the Spider-Verse    -4.368\n",
      "Dynamite                                         -4.410\n",
      "Don't Start Now                                  -4.521\n",
      "Say So                                           -4.577\n",
      "Supalonely (feat. Gus Dapperton)                 -4.746\n",
      "Before You Go                                    -4.858\n"
     ]
    }
   ],
   "source": [
    "loud_tracks = toptracks_df[toptracks_df['loudness'] > -5][['track_name','loudness']].sort_values(by='loudness',ascending=False).set_index('track_name')\n",
    "print(\"Number of loud tracks:\", len(loud_tracks))\n",
    "print(loud_tracks)"
   ]
  },
  {
   "cell_type": "markdown",
   "metadata": {},
   "source": [
    "## Which tracks have their loudness below -8?\n",
    "\n",
    "There are 9 quiet songs, of which the quietest is everything i wanted. "
   ]
  },
  {
   "cell_type": "code",
   "execution_count": 350,
   "metadata": {},
   "outputs": [
    {
     "name": "stdout",
     "output_type": "stream",
     "text": [
      "Number of quiet tracks: 9\n",
      "                                                loudness\n",
      "track_name                                              \n",
      "everything i wanted                              -14.454\n",
      "bad guy                                          -10.965\n",
      "lovely (with Khalid)                             -10.109\n",
      "If the World Was Ending - feat. Julia Michaels   -10.086\n",
      "Toosie Slide                                      -8.820\n",
      "death bed (coffee for your head)                  -8.765\n",
      "HIGHEST IN THE ROOM                               -8.764\n",
      "Falling                                           -8.756\n",
      "Savage Love (Laxed - Siren Beat)                  -8.520\n"
     ]
    }
   ],
   "source": [
    "quiet_tracks = toptracks_df[toptracks_df['loudness'] < -8][['track_name','loudness']].sort_values(by='loudness').set_index('track_name')\n",
    "print(\"Number of quiet tracks:\", len(quiet_tracks))\n",
    "print(quiet_tracks)"
   ]
  },
  {
   "cell_type": "markdown",
   "metadata": {},
   "source": [
    "## Average loudness\n"
   ]
  },
  {
   "cell_type": "code",
   "execution_count": 351,
   "metadata": {},
   "outputs": [
    {
     "name": "stdout",
     "output_type": "stream",
     "text": [
      "Mean loudness: -6.226\n",
      "Median loudness: -5.992\n"
     ]
    }
   ],
   "source": [
    "print(f\"Mean loudness: {toptracks_df.loudness.mean():.3f}\")\n",
    "print(f\"Median loudness: {toptracks_df.loudness.median():.3f}\")"
   ]
  },
  {
   "cell_type": "markdown",
   "metadata": {},
   "source": [
    "## Which track is the longest?\n",
    "\n",
    "The track SICKO MODE by Travis Scott is the longest track, at 5 minutes 12 seconds. "
   ]
  },
  {
   "cell_type": "code",
   "execution_count": 352,
   "metadata": {},
   "outputs": [
    {
     "data": {
      "text/plain": [
       "artist         Travis Scott\n",
       "track_name       SICKO MODE\n",
       "duration_ms          312820\n",
       "Name: 49, dtype: object"
      ]
     },
     "execution_count": 352,
     "metadata": {},
     "output_type": "execute_result"
    }
   ],
   "source": [
    "toptracks_df.loc[toptracks_df.duration_ms.idxmax(),['artist','track_name','duration_ms']]"
   ]
  },
  {
   "cell_type": "code",
   "execution_count": 353,
   "metadata": {},
   "outputs": [
    {
     "name": "stdout",
     "output_type": "stream",
     "text": [
      "5 minutes 12 seconds\n"
     ]
    }
   ],
   "source": [
    "mins_longest_track, secs_longest_track = divmod(toptracks_df.loc[toptracks_df.duration_ms.idxmax()].duration_ms / 1000 / 60, 1)\n",
    "secs_longest_track = secs_longest_track * 60\n",
    "print(f\"{int(mins_longest_track)} minutes {int(secs_longest_track)} seconds\")\n"
   ]
  },
  {
   "cell_type": "markdown",
   "metadata": {},
   "source": [
    "## Which track is the shortest?\n",
    "\n",
    "The track Mood (feat. iann dior) by 24kGoldn was the shortest track, at 2 minutes 20 seconds."
   ]
  },
  {
   "cell_type": "code",
   "execution_count": 354,
   "metadata": {},
   "outputs": [
    {
     "data": {
      "text/plain": [
       "artist                       24kGoldn\n",
       "track_name     Mood (feat. iann dior)\n",
       "duration_ms                    140526\n",
       "Name: 23, dtype: object"
      ]
     },
     "execution_count": 354,
     "metadata": {},
     "output_type": "execute_result"
    }
   ],
   "source": [
    "toptracks_df.loc[toptracks_df.duration_ms.idxmin(),['artist','track_name','duration_ms']]"
   ]
  },
  {
   "cell_type": "code",
   "execution_count": 355,
   "metadata": {},
   "outputs": [
    {
     "name": "stdout",
     "output_type": "stream",
     "text": [
      "2 minutes 20 seconds\n"
     ]
    }
   ],
   "source": [
    "mins_shortest_track, secs_shortest_track = divmod(toptracks_df.loc[toptracks_df.duration_ms.idxmin()].duration_ms / 1000 / 60, 1)\n",
    "secs_shortest_track = secs_shortest_track * 60\n",
    "print(f\"{int(mins_shortest_track)} minutes {int(secs_shortest_track)} seconds\")"
   ]
  },
  {
   "cell_type": "markdown",
   "metadata": {},
   "source": [
    "## Average length"
   ]
  },
  {
   "cell_type": "code",
   "execution_count": 356,
   "metadata": {},
   "outputs": [
    {
     "name": "stdout",
     "output_type": "stream",
     "text": [
      "Mean length: 3 minutes 19 seconds\n",
      "Median length: 3 minutes 17 seconds\n"
     ]
    }
   ],
   "source": [
    "mins_mean_track, secs_mean_track = divmod(toptracks_df.duration_ms.mean() / 1000 / 60, 1)\n",
    "secs_mean_track = secs_mean_track * 60\n",
    "\n",
    "mins_median_track, secs_median_track = divmod(toptracks_df.duration_ms.median() / 1000 / 60, 1)\n",
    "secs_median_track = secs_median_track * 60\n",
    "\n",
    "print(f\"Mean length: {int(mins_mean_track)} minutes {int(secs_mean_track)} seconds\")\n",
    "print(f\"Median length: {int(mins_median_track)} minutes {int(secs_median_track)} seconds\")"
   ]
  },
  {
   "cell_type": "markdown",
   "metadata": {},
   "source": [
    "## Which genre is the most popular?\n",
    "\n",
    "Based on the genres provide, Pop is the most popular, with 14 tracks."
   ]
  },
  {
   "cell_type": "code",
   "execution_count": 357,
   "metadata": {},
   "outputs": [
    {
     "name": "stdout",
     "output_type": "stream",
     "text": [
      "genre\n",
      "Pop                                   14\n",
      "Hip-Hop/Rap                           13\n",
      "Dance/Electronic                       5\n",
      "Alternative/Indie                      4\n",
      "R&B/Soul                               2\n",
      "Electro-pop                            2\n",
      "R&B/Hip-Hop alternative                1\n",
      "Nu-disco                               1\n",
      "Pop/Soft Rock                          1\n",
      "Pop rap                                1\n",
      "Hip-Hop/Trap                           1\n",
      "Dance-pop/Disco                        1\n",
      "Disco-pop                              1\n",
      "Dreampop/Hip-Hop/R&B                   1\n",
      "Alternative/reggaeton/experimental     1\n",
      "Chamber pop                            1\n",
      "Name: count, dtype: int64\n"
     ]
    }
   ],
   "source": [
    "genre_counts = toptracks_df.genre.value_counts()\n",
    "print(genre_counts)"
   ]
  },
  {
   "cell_type": "markdown",
   "metadata": {},
   "source": [
    "The listed genres contain both sub-categories and categories. It's currently difficult to tell which genres are actually part of the same parent genre. We would be able to get a more comprehensive view on with genres are the most popualar if we had the parent genres (e.g. Disco-pop and Nu-disco are both part of the Disco genre, which in turn is part of the Electronic genre). There are also tracks that are part of multiple genres (e.g. Pop/Soft Rock), so it would also be beneficial to split out the genres in to each individual genre. \n",
    "\n",
    "Most tracks fall under some form of Pop or Hip-hop.  "
   ]
  },
  {
   "cell_type": "markdown",
   "metadata": {},
   "source": [
    "## Which genres have just one song on the top 50?\n",
    "\n",
    "10 genres have only one track in the top 50. However, we can see from the below list that most of these genres appear to fit into the same parent genre or share at least 1 genre with at least one other track. Arguably, the only track that actually has a unique genre is Safaera by Bad Bunny, with the genre Alternative/reggaeton/experimental. "
   ]
  },
  {
   "cell_type": "code",
   "execution_count": 358,
   "metadata": {},
   "outputs": [
    {
     "name": "stdout",
     "output_type": "stream",
     "text": [
      "Number of genres with only 1 track: 10\n",
      "genre\n",
      "R&B/Hip-Hop alternative               1\n",
      "Nu-disco                              1\n",
      "Pop/Soft Rock                         1\n",
      "Pop rap                               1\n",
      "Hip-Hop/Trap                          1\n",
      "Dance-pop/Disco                       1\n",
      "Disco-pop                             1\n",
      "Dreampop/Hip-Hop/R&B                  1\n",
      "Alternative/reggaeton/experimental    1\n",
      "Chamber pop                           1\n",
      "Name: count, dtype: int64\n"
     ]
    }
   ],
   "source": [
    "print(\"Number of genres with only 1 track:\", len(genre_counts[genre_counts == 1]))\n",
    "print(genre_counts[genre_counts == 1])"
   ]
  },
  {
   "cell_type": "code",
   "execution_count": 359,
   "metadata": {},
   "outputs": [
    {
     "data": {
      "text/html": [
       "<div>\n",
       "<style scoped>\n",
       "    .dataframe tbody tr th:only-of-type {\n",
       "        vertical-align: middle;\n",
       "    }\n",
       "\n",
       "    .dataframe tbody tr th {\n",
       "        vertical-align: top;\n",
       "    }\n",
       "\n",
       "    .dataframe thead th {\n",
       "        text-align: right;\n",
       "    }\n",
       "</style>\n",
       "<table border=\"1\" class=\"dataframe\">\n",
       "  <thead>\n",
       "    <tr style=\"text-align: right;\">\n",
       "      <th></th>\n",
       "      <th>artist</th>\n",
       "      <th>track_name</th>\n",
       "    </tr>\n",
       "  </thead>\n",
       "  <tbody>\n",
       "    <tr>\n",
       "      <th>43</th>\n",
       "      <td>Bad Bunny</td>\n",
       "      <td>Safaera</td>\n",
       "    </tr>\n",
       "  </tbody>\n",
       "</table>\n",
       "</div>"
      ],
      "text/plain": [
       "       artist track_name\n",
       "43  Bad Bunny    Safaera"
      ]
     },
     "execution_count": 359,
     "metadata": {},
     "output_type": "execute_result"
    }
   ],
   "source": [
    "toptracks_df[toptracks_df['genre'] == 'Alternative/reggaeton/experimental'][['artist','track_name']]"
   ]
  },
  {
   "cell_type": "markdown",
   "metadata": {},
   "source": [
    "## How many genres in total are represented in the top 50?\n",
    "\n",
    "There are 16 sub-genres represented in the top 50. This count could be improved by getting the parent genres and splitting out tracks with multiple genres."
   ]
  },
  {
   "cell_type": "code",
   "execution_count": 360,
   "metadata": {},
   "outputs": [
    {
     "data": {
      "text/plain": [
       "16"
      ]
     },
     "execution_count": 360,
     "metadata": {},
     "output_type": "execute_result"
    }
   ],
   "source": [
    "len(genre_counts)"
   ]
  },
  {
   "cell_type": "markdown",
   "metadata": {},
   "source": [
    "## Which features are strongly positively correlated?"
   ]
  },
  {
   "cell_type": "markdown",
   "metadata": {},
   "source": [
    "## Which features are strongly negatively correlated?"
   ]
  },
  {
   "cell_type": "markdown",
   "metadata": {},
   "source": [
    "## Which features are not correlated?"
   ]
  },
  {
   "cell_type": "markdown",
   "metadata": {},
   "source": [
    "## How does the danceability score compare between Pop, Hip-Hop/Rap, Dance/Electronic, and Alternative/Indie genres?"
   ]
  },
  {
   "cell_type": "markdown",
   "metadata": {},
   "source": [
    "## How does the loudness score compare between Pop, Hip-Hop/Rap, Dance/Electronic, and Alternative/Indie genres?"
   ]
  },
  {
   "cell_type": "markdown",
   "metadata": {},
   "source": [
    "## How does the acousticness score compare between Pop, Hip-Hop/Rap, Dance/Electronic, and Alternative/Indie genres?"
   ]
  },
  {
   "cell_type": "markdown",
   "metadata": {},
   "source": [
    "## Improvements for future analysis"
   ]
  },
  {
   "cell_type": "code",
   "execution_count": null,
   "metadata": {},
   "outputs": [],
   "source": []
  }
 ],
 "metadata": {
  "kernelspec": {
   "display_name": "Python 3",
   "language": "python",
   "name": "python3"
  },
  "language_info": {
   "codemirror_mode": {
    "name": "ipython",
    "version": 3
   },
   "file_extension": ".py",
   "mimetype": "text/x-python",
   "name": "python",
   "nbconvert_exporter": "python",
   "pygments_lexer": "ipython3",
   "version": "3.12.2"
  }
 },
 "nbformat": 4,
 "nbformat_minor": 2
}

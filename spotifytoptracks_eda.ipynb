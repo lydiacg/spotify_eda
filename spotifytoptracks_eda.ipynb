{
 "cells": [
  {
   "cell_type": "markdown",
   "metadata": {},
   "source": [
    "# Exploratory Data Analysis on Top 50 Spotify Tracks\n",
    "\n",
    "In this notebook, I am going to explain how I prepared my data, the features of my data, the analysis I did on the data, and discuss what improvements/further analysis I could make in future work. For convenience, a link to each section is provided:\n",
    "\n",
    "- [Data Prepation](#data-prep)\n",
    "- [Features](#features)\n",
    "- [Analysis](#analysis)\n",
    "- [Improvements and Future Analysis](#improvements)\n"
   ]
  },
  {
   "cell_type": "markdown",
   "metadata": {},
   "source": [
    "\n",
    "I will start by import pandas and numpy, and import the data from the CSV."
   ]
  },
  {
   "cell_type": "code",
   "execution_count": 746,
   "metadata": {},
   "outputs": [],
   "source": [
    "import pandas as pd\n",
    "import numpy as np\n",
    "\n",
    "toptracks_df = pd.read_csv('spotifytoptracks.csv', index_col=0)"
   ]
  },
  {
   "cell_type": "markdown",
   "metadata": {},
   "source": [
    "\n",
    "## Data Prepation<a name=\"data-prep\"></a>\n"
   ]
  },
  {
   "cell_type": "markdown",
   "metadata": {},
   "source": [
    "The columns appear to be named sensibly:"
   ]
  },
  {
   "cell_type": "code",
   "execution_count": 747,
   "metadata": {},
   "outputs": [
    {
     "data": {
      "text/plain": [
       "Index(['artist', 'album', 'track_name', 'track_id', 'energy', 'danceability',\n",
       "       'key', 'loudness', 'acousticness', 'speechiness', 'instrumentalness',\n",
       "       'liveness', 'valence', 'tempo', 'duration_ms', 'genre'],\n",
       "      dtype='object')"
      ]
     },
     "execution_count": 747,
     "metadata": {},
     "output_type": "execute_result"
    }
   ],
   "source": [
    "toptracks_df.columns"
   ]
  },
  {
   "cell_type": "markdown",
   "metadata": {},
   "source": [
    "And there appears to be no missing data:"
   ]
  },
  {
   "cell_type": "code",
   "execution_count": 748,
   "metadata": {},
   "outputs": [
    {
     "data": {
      "text/plain": [
       "np.int64(0)"
      ]
     },
     "execution_count": 748,
     "metadata": {},
     "output_type": "execute_result"
    }
   ],
   "source": [
    "toptracks_df.isna().sum().sum()"
   ]
  },
  {
   "cell_type": "markdown",
   "metadata": {},
   "source": [
    "Plus the artists (of which there are 40) and track names (of which there are 50) appear to contain no obvious duplicates:"
   ]
  },
  {
   "cell_type": "code",
   "execution_count": 749,
   "metadata": {},
   "outputs": [
    {
     "name": "stdout",
     "output_type": "stream",
     "text": [
      "Number of unique artists: 40\n",
      "['24kGoldn' 'Ariana Grande' 'Arizona Zervas' 'BENEE' 'BTS' 'Bad Bunny'\n",
      " 'Billie Eilish' 'Black Eyed Peas' 'Cardi B' 'DaBaby' 'Doja Cat' 'Drake'\n",
      " 'Dua Lipa' 'Eminem' 'Future' 'Harry Styles' 'JP Saxe' 'Jawsh 685'\n",
      " 'Juice WRLD' 'Justin Bieber' 'KAROL G' 'Lady Gaga' 'Lewis Capaldi'\n",
      " 'Lil Mosey' 'Maluma' 'Maroon 5' 'Post Malone' 'Powfu' 'Regard'\n",
      " 'Roddy Ricch' 'SAINt JHN' 'Shawn Mendes' 'Surf Mesa' 'Surfaces'\n",
      " 'THE SCOTTS' 'The Weeknd' 'Tones And I' 'Topic' 'Travis Scott'\n",
      " 'Trevor Daniel']\n"
     ]
    }
   ],
   "source": [
    "print(\"Number of unique artists:\",len(toptracks_df.artist.unique()))\n",
    "print(np.sort(toptracks_df.artist.unique()))"
   ]
  },
  {
   "cell_type": "code",
   "execution_count": 750,
   "metadata": {},
   "outputs": [
    {
     "name": "stdout",
     "output_type": "stream",
     "text": [
      "Number of unique track names: 50\n",
      "['Adore You' 'Before You Go' 'Blinding Lights' 'Blueberry Faygo'\n",
      " 'Break My Heart' 'Breaking Me' 'Circles' 'Dance Monkey' \"Don't Start Now\"\n",
      " 'Dynamite' 'Falling' 'Godzilla (feat. Juice WRLD)' 'HIGHEST IN THE ROOM'\n",
      " 'Hawái' 'If the World Was Ending - feat. Julia Michaels'\n",
      " 'Intentions (feat. Quavo)' 'Life Is Good (feat. Drake)' 'Lucid Dreams'\n",
      " 'Memories' 'Mood (feat. iann dior)' 'Physical'\n",
      " 'RITMO (Bad Boys For Life)' 'ROCKSTAR (feat. Roddy Ricch)' 'ROXANNE'\n",
      " 'Rain On Me (with Ariana Grande)' 'Ride It' 'Roses - Imanbek Remix'\n",
      " 'SICKO MODE' 'Safaera' 'Savage Love (Laxed - Siren Beat)' 'Say So'\n",
      " 'Señorita' 'Someone You Loved' 'Stuck with U (with Justin Bieber)'\n",
      " 'Sunday Best' 'Sunflower - Spider-Man: Into the Spider-Verse'\n",
      " 'Supalonely (feat. Gus Dapperton)' 'THE SCOTTS' 'The Box' 'Toosie Slide'\n",
      " 'Tusa' 'WAP (feat. Megan Thee Stallion)' 'Watermelon Sugar' 'Yummy'\n",
      " 'bad guy' 'death bed (coffee for your head)' 'everything i wanted'\n",
      " 'goosebumps' 'ily (i love you baby) (feat. Emilee)'\n",
      " 'lovely (with Khalid)']\n"
     ]
    }
   ],
   "source": [
    "print(\"Number of unique track names:\", len(toptracks_df.track_name.unique()))\n",
    "print(np.sort(toptracks_df.track_name.unique()))"
   ]
  },
  {
   "cell_type": "markdown",
   "metadata": {},
   "source": [
    "Several songs have additional artists listed in the track names. These are identified by either 'feat.' or 'with'. I have extracted these into their own column using a regex expression.\n",
    "\n",
    "This adds an additional 7 artists, bringing the total number of artists (including second artists) to 47."
   ]
  },
  {
   "cell_type": "code",
   "execution_count": 751,
   "metadata": {},
   "outputs": [
    {
     "data": {
      "text/html": [
       "<div>\n",
       "<style scoped>\n",
       "    .dataframe tbody tr th:only-of-type {\n",
       "        vertical-align: middle;\n",
       "    }\n",
       "\n",
       "    .dataframe tbody tr th {\n",
       "        vertical-align: top;\n",
       "    }\n",
       "\n",
       "    .dataframe thead th {\n",
       "        text-align: right;\n",
       "    }\n",
       "</style>\n",
       "<table border=\"1\" class=\"dataframe\">\n",
       "  <thead>\n",
       "    <tr style=\"text-align: right;\">\n",
       "      <th></th>\n",
       "      <th>artist</th>\n",
       "      <th>second_artist</th>\n",
       "    </tr>\n",
       "  </thead>\n",
       "  <tbody>\n",
       "    <tr>\n",
       "      <th>5</th>\n",
       "      <td>DaBaby</td>\n",
       "      <td>Roddy Ricch</td>\n",
       "    </tr>\n",
       "    <tr>\n",
       "      <th>14</th>\n",
       "      <td>Justin Bieber</td>\n",
       "      <td>Quavo</td>\n",
       "    </tr>\n",
       "    <tr>\n",
       "      <th>19</th>\n",
       "      <td>Future</td>\n",
       "      <td>Drake</td>\n",
       "    </tr>\n",
       "    <tr>\n",
       "      <th>23</th>\n",
       "      <td>24kGoldn</td>\n",
       "      <td>iann dior</td>\n",
       "    </tr>\n",
       "    <tr>\n",
       "      <th>27</th>\n",
       "      <td>Cardi B</td>\n",
       "      <td>Megan Thee Stallion</td>\n",
       "    </tr>\n",
       "    <tr>\n",
       "      <th>29</th>\n",
       "      <td>Eminem</td>\n",
       "      <td>Juice WRLD</td>\n",
       "    </tr>\n",
       "    <tr>\n",
       "      <th>33</th>\n",
       "      <td>BENEE</td>\n",
       "      <td>Gus Dapperton</td>\n",
       "    </tr>\n",
       "    <tr>\n",
       "      <th>34</th>\n",
       "      <td>Surf Mesa</td>\n",
       "      <td>Emilee</td>\n",
       "    </tr>\n",
       "    <tr>\n",
       "      <th>35</th>\n",
       "      <td>Lady Gaga</td>\n",
       "      <td>Ariana Grande</td>\n",
       "    </tr>\n",
       "    <tr>\n",
       "      <th>44</th>\n",
       "      <td>Billie Eilish</td>\n",
       "      <td>Khalid</td>\n",
       "    </tr>\n",
       "    <tr>\n",
       "      <th>46</th>\n",
       "      <td>Ariana Grande</td>\n",
       "      <td>Justin Bieber</td>\n",
       "    </tr>\n",
       "    <tr>\n",
       "      <th>47</th>\n",
       "      <td>JP Saxe</td>\n",
       "      <td>Julia Michaels</td>\n",
       "    </tr>\n",
       "  </tbody>\n",
       "</table>\n",
       "</div>"
      ],
      "text/plain": [
       "           artist        second_artist\n",
       "5          DaBaby          Roddy Ricch\n",
       "14  Justin Bieber                Quavo\n",
       "19         Future                Drake\n",
       "23       24kGoldn            iann dior\n",
       "27        Cardi B  Megan Thee Stallion\n",
       "29         Eminem           Juice WRLD\n",
       "33          BENEE        Gus Dapperton\n",
       "34      Surf Mesa               Emilee\n",
       "35      Lady Gaga        Ariana Grande\n",
       "44  Billie Eilish               Khalid\n",
       "46  Ariana Grande        Justin Bieber\n",
       "47        JP Saxe       Julia Michaels"
      ]
     },
     "execution_count": 751,
     "metadata": {},
     "output_type": "execute_result"
    }
   ],
   "source": [
    "import re\n",
    "\n",
    "def second_artist(r):\n",
    "    matches = re.findall(r'^.*(?:feat\\.|with) (\\w+(?: ?\\w*)*)\\)?$',r)\n",
    "    if matches:\n",
    "        return matches[0]\n",
    "    else:\n",
    "        return None\n",
    "\n",
    "toptracks_df['second_artist'] = toptracks_df.track_name.apply(second_artist)\n",
    "toptracks_df[toptracks_df.second_artist.notna()][['artist','second_artist']]\n"
   ]
  },
  {
   "cell_type": "code",
   "execution_count": 752,
   "metadata": {},
   "outputs": [
    {
     "data": {
      "text/plain": [
       "47"
      ]
     },
     "execution_count": 752,
     "metadata": {},
     "output_type": "execute_result"
    }
   ],
   "source": [
    "len(np.union1d(toptracks_df.artist.unique(),  toptracks_df.second_artist.dropna().unique()))"
   ]
  },
  {
   "cell_type": "markdown",
   "metadata": {},
   "source": [
    "At least one genre (Electro-pop) has additional whitespace, so I have striped this across all string (object) columns to ensure better data quality."
   ]
  },
  {
   "cell_type": "code",
   "execution_count": 753,
   "metadata": {},
   "outputs": [],
   "source": [
    "toptracks_df = toptracks_df.apply(lambda x: x.str.strip() if x.dtype == \"object\" else x)"
   ]
  },
  {
   "cell_type": "markdown",
   "metadata": {},
   "source": [
    "### Outliers\n",
    "\n",
    "As all of the data appears to be actual data and to fit what's expected for songs, I will not be excluding any tracks from the analysis. There are a few outliers in a few categories e.g.:\n",
    "1. The track 'everything i wanted' has a significantly lower loudness than any other track\n",
    "2. Two tracks ('Safaera' and 'SICKO MODE') have a significantly longer time than any other track (295 and 312 seconds respectively)\n",
    "3. The track 'Safaera' is the only track to have a completely different genre - all other tracks are some variant of Pop, Hip-Hop, Electronic or Indie\n",
    "\n",
    "While I will not be excluding any of these from the analysis, when I focus in on these categories, I will be discussing the impact of these outliers and how certain statistics change when these outliers are excluded. "
   ]
  },
  {
   "cell_type": "markdown",
   "metadata": {},
   "source": [
    "## Features<a name=\"features\"></a>"
   ]
  },
  {
   "cell_type": "markdown",
   "metadata": {},
   "source": [
    "There are 50 observations in this data set, each with 16 features. Of these 16 features, 10 are numeric, 6 are categorical. I have also extracted the second artist, which is an additional categorical feature."
   ]
  },
  {
   "cell_type": "markdown",
   "metadata": {},
   "source": [
    "#### Numeric features\n",
    "- energy\n",
    "    - How energetic the track is - between 0 and 1, 1 is highly energetic\n",
    "- danceability\n",
    "    - How easy it is to dance to the track - between 0 and 1, 1 is highly danceable\n",
    "- loudness\n",
    "    - How loud the track is - a higher number indicates a louder track\n",
    "- acousticness\n",
    "    - How acoustic the track sounds - between 0 and 1, 1 is highly acoustic\n",
    "- speechiness\n",
    "    - The presence of spoken words - between 0 and 1, 1 is fully spoken words\n",
    "- instrumentalness\n",
    "    - Whether the track is likely to have vocals - between 0 and 1, 1 is very likely to have no vocals whatsoever\n",
    "- liveness\n",
    "    - Whether the track is likely to be a live performance - between 0 and 1, 1 is very likely to be live\n",
    "- valence\n",
    "    - The positivity of the track - between 0 and 1, 1 is highly positive\n",
    "- tempo\n",
    "    - Beats per minute\n",
    "- duration_ms\n",
    "    - Duration of the track in milliseconds\n",
    "\n",
    "#### Categorical features\n",
    "- key\n",
    "    - Primary identifier of the track\n",
    "- genre\n",
    "    - Genre of the track\n",
    "- artist\n",
    "    - Artist of the track\n",
    "- album\n",
    "    - Album of the track\n",
    "- track_name\n",
    "    - Name of the track\n",
    "- track_id\n",
    "    - ID of the track\n",
    "\n",
    "#### Extracted data \n",
    "- second_artist (categorical)\n",
    "    - Second artist of the track (optional)"
   ]
  },
  {
   "cell_type": "markdown",
   "metadata": {},
   "source": [
    "## Analysis<a name=\"analysis\"></a>\n",
    "\n",
    "I have analysed the data, focusing on the below aspects:\n",
    "\n",
    "- [Artists](#artists)\n",
    "- [Albums](#albums)\n",
    "- [Genre](#genre)\n",
    "- [Tracks](#tracks)\n",
    "- [Correlations](#correlations)"
   ]
  },
  {
   "cell_type": "markdown",
   "metadata": {},
   "source": [
    "### Artists<a name=\"artists\"></a>\n",
    "\n",
    "Questions about the artists:\n",
    "1. [Which artists have more than 1 popular track? How many tracks does each of these artist have?](#artists-q1)\n",
    "2. [How many artists are in the top 50?](#artists-q2)\n",
    "3. [Which artist is the most popular?](#artists-q3)\n",
    "\n"
   ]
  },
  {
   "cell_type": "markdown",
   "metadata": {},
   "source": [
    "#### Question 1: Which artists have more than 1 popular track? How many tracks does each of these artist have?<a name=\"artists-q1\"></a>\n",
    "\n",
    "Of the 40 artists in the top 50, 7 have more than 1 popular track. The highest number of tracks is 3, which 3 artists have: \n",
    "Billie Eilish, Dua Lipa, Travis Scott. "
   ]
  },
  {
   "cell_type": "code",
   "execution_count": 754,
   "metadata": {},
   "outputs": [
    {
     "name": "stdout",
     "output_type": "stream",
     "text": [
      "Number of artists with more than 1 top 50 track: 7\n",
      "artist\n",
      "Billie Eilish    3\n",
      "Dua Lipa         3\n",
      "Travis Scott     3\n",
      "Lewis Capaldi    2\n",
      "Harry Styles     2\n",
      "Post Malone      2\n",
      "Justin Bieber    2\n",
      "Name: track_name, dtype: int64\n"
     ]
    }
   ],
   "source": [
    "no_tracks_per_artist = toptracks_df.groupby('artist').track_name.count().sort_values(ascending=False)\n",
    "mult_track_artists = no_tracks_per_artist[no_tracks_per_artist > 1]\n",
    "print(\"Number of artists with more than 1 top 50 track:\",len(mult_track_artists))\n",
    "print(mult_track_artists)\n"
   ]
  },
  {
   "cell_type": "markdown",
   "metadata": {},
   "source": [
    "If we include artists who are the second artist on a track, this changes to 11 artists with more than 1 top 50 track. The maximum number of tracks (3) doesn't change, but an extra artist now has 3 tracks (4 total - Justin Bieber has been added)."
   ]
  },
  {
   "cell_type": "code",
   "execution_count": 755,
   "metadata": {},
   "outputs": [
    {
     "name": "stdout",
     "output_type": "stream",
     "text": [
      "Number of artists with more than 1 top 50 track (when including tracks as second artist): 11\n",
      "Billie Eilish    3.0\n",
      "Dua Lipa         3.0\n",
      "Justin Bieber    3.0\n",
      "Travis Scott     3.0\n",
      "Juice WRLD       2.0\n",
      "Drake            2.0\n",
      "Ariana Grande    2.0\n",
      "Harry Styles     2.0\n",
      "Lewis Capaldi    2.0\n",
      "Roddy Ricch      2.0\n",
      "Post Malone      2.0\n",
      "Name: track_name, dtype: float64\n"
     ]
    }
   ],
   "source": [
    "second_artist_count = toptracks_df.groupby('second_artist').track_name.count().sort_values(ascending=False)\n",
    "second_artist_incl = no_tracks_per_artist.add(second_artist_count, fill_value = 0).sort_values(ascending=False)\n",
    "print(\"Number of artists with more than 1 top 50 track (when including tracks as second artist):\",len(second_artist_incl[second_artist_incl > 1]))\n",
    "print(second_artist_incl[second_artist_incl > 1])"
   ]
  },
  {
   "cell_type": "markdown",
   "metadata": {},
   "source": [
    "#### Question 2: How many artists are in the top 50?<a name=\"artists-q2\"></a>\n",
    "\n",
    "There are 40 artists listed as the main artist in the top 50."
   ]
  },
  {
   "cell_type": "code",
   "execution_count": 756,
   "metadata": {},
   "outputs": [
    {
     "data": {
      "text/plain": [
       "40"
      ]
     },
     "execution_count": 756,
     "metadata": {},
     "output_type": "execute_result"
    }
   ],
   "source": [
    "len(toptracks_df.artist.unique())"
   ]
  },
  {
   "cell_type": "markdown",
   "metadata": {},
   "source": [
    "If we include second artists, this increase to 47 artists."
   ]
  },
  {
   "cell_type": "code",
   "execution_count": 757,
   "metadata": {},
   "outputs": [
    {
     "data": {
      "text/plain": [
       "47"
      ]
     },
     "execution_count": 757,
     "metadata": {},
     "output_type": "execute_result"
    }
   ],
   "source": [
    "len(np.union1d(toptracks_df.artist.unique(), toptracks_df.second_artist.dropna().unique()))"
   ]
  },
  {
   "cell_type": "markdown",
   "metadata": {},
   "source": [
    "#### Question 3: Who was the most popular artist?<a name=\"artists-q3\"></a>\n",
    "\n",
    "In order to assess this more accurately, I beleive we would require play counts. Knowing which songs were played the most would make it easier to determine which artist(s) were more popular. \n",
    "\n",
    "Without this data, the above analysis of the most popular track per artist is the best way of assessing this. I believe it's reasonable to say that being the main artist ranks above being the second artist, so we can consider the 3 artists who had 3 popular songs as the most popular artists:\n",
    "- Billie Eilish\n",
    "- Dua Lipa\n",
    "- Travis Scott"
   ]
  },
  {
   "cell_type": "markdown",
   "metadata": {},
   "source": [
    "### Albums<a name=\"albums\"></a>\n",
    "\n",
    "Questions about albums:\n",
    "1. [Which albums have more than 1 track in the top 50? How many tracks do each of these albums have in the top 50?](#albums-q1)\n",
    "2. [How many ablums are in the top 50?](#albums-q2)"
   ]
  },
  {
   "cell_type": "markdown",
   "metadata": {},
   "source": [
    "#### Question 1: Which albums have more than 1 track in the top 50? How many tracks do each of these albums have in the top 50?<a name=\"albums-q1\"></a>\n",
    "\n",
    "4 albums have more than 1 track in the top 50. The most tracks for a single album is 3, which only the album Future Nostalgia managed. The artist is Dua Lipa and the tracks are: Don't Start Now; Break My Heart; Physical. "
   ]
  },
  {
   "cell_type": "code",
   "execution_count": 758,
   "metadata": {},
   "outputs": [
    {
     "name": "stdout",
     "output_type": "stream",
     "text": [
      "Number of albums with more than 1 track: 4\n",
      "album\n",
      "Future Nostalgia        3\n",
      "Hollywood's Bleeding    2\n",
      "Fine Line               2\n",
      "Changes                 2\n",
      "Name: count, dtype: int64\n"
     ]
    }
   ],
   "source": [
    "album_counts = toptracks_df.album.value_counts().sort_values(ascending=False)\n",
    "print(\"Number of albums with more than 1 track:\", len(album_counts[album_counts > 1]))\n",
    "print(album_counts[album_counts > 1])"
   ]
  },
  {
   "cell_type": "code",
   "execution_count": 759,
   "metadata": {},
   "outputs": [
    {
     "data": {
      "text/html": [
       "<div>\n",
       "<style scoped>\n",
       "    .dataframe tbody tr th:only-of-type {\n",
       "        vertical-align: middle;\n",
       "    }\n",
       "\n",
       "    .dataframe tbody tr th {\n",
       "        vertical-align: top;\n",
       "    }\n",
       "\n",
       "    .dataframe thead th {\n",
       "        text-align: right;\n",
       "    }\n",
       "</style>\n",
       "<table border=\"1\" class=\"dataframe\">\n",
       "  <thead>\n",
       "    <tr style=\"text-align: right;\">\n",
       "      <th></th>\n",
       "      <th>artist</th>\n",
       "      <th>album</th>\n",
       "      <th>track_name</th>\n",
       "      <th>track_id</th>\n",
       "      <th>energy</th>\n",
       "      <th>danceability</th>\n",
       "      <th>key</th>\n",
       "      <th>loudness</th>\n",
       "      <th>acousticness</th>\n",
       "      <th>speechiness</th>\n",
       "      <th>instrumentalness</th>\n",
       "      <th>liveness</th>\n",
       "      <th>valence</th>\n",
       "      <th>tempo</th>\n",
       "      <th>duration_ms</th>\n",
       "      <th>genre</th>\n",
       "      <th>second_artist</th>\n",
       "    </tr>\n",
       "  </thead>\n",
       "  <tbody>\n",
       "    <tr>\n",
       "      <th>4</th>\n",
       "      <td>Dua Lipa</td>\n",
       "      <td>Future Nostalgia</td>\n",
       "      <td>Don't Start Now</td>\n",
       "      <td>3PfIrDoz19wz7qK7tYeu62</td>\n",
       "      <td>0.793</td>\n",
       "      <td>0.793</td>\n",
       "      <td>11</td>\n",
       "      <td>-4.521</td>\n",
       "      <td>0.0123</td>\n",
       "      <td>0.0830</td>\n",
       "      <td>0.000000</td>\n",
       "      <td>0.0951</td>\n",
       "      <td>0.679</td>\n",
       "      <td>123.950</td>\n",
       "      <td>183290</td>\n",
       "      <td>Nu-disco</td>\n",
       "      <td>None</td>\n",
       "    </tr>\n",
       "    <tr>\n",
       "      <th>31</th>\n",
       "      <td>Dua Lipa</td>\n",
       "      <td>Future Nostalgia</td>\n",
       "      <td>Break My Heart</td>\n",
       "      <td>017PF4Q3l4DBUiWoXk4OWT</td>\n",
       "      <td>0.729</td>\n",
       "      <td>0.730</td>\n",
       "      <td>4</td>\n",
       "      <td>-3.434</td>\n",
       "      <td>0.1670</td>\n",
       "      <td>0.0883</td>\n",
       "      <td>0.000001</td>\n",
       "      <td>0.3490</td>\n",
       "      <td>0.467</td>\n",
       "      <td>113.013</td>\n",
       "      <td>221820</td>\n",
       "      <td>Dance-pop/Disco</td>\n",
       "      <td>None</td>\n",
       "    </tr>\n",
       "    <tr>\n",
       "      <th>48</th>\n",
       "      <td>Dua Lipa</td>\n",
       "      <td>Future Nostalgia</td>\n",
       "      <td>Physical</td>\n",
       "      <td>3AzjcOeAmA57TIOr9zF1ZW</td>\n",
       "      <td>0.844</td>\n",
       "      <td>0.647</td>\n",
       "      <td>0</td>\n",
       "      <td>-3.756</td>\n",
       "      <td>0.0137</td>\n",
       "      <td>0.0457</td>\n",
       "      <td>0.000658</td>\n",
       "      <td>0.1020</td>\n",
       "      <td>0.746</td>\n",
       "      <td>146.967</td>\n",
       "      <td>193829</td>\n",
       "      <td>Dance/Electronic</td>\n",
       "      <td>None</td>\n",
       "    </tr>\n",
       "  </tbody>\n",
       "</table>\n",
       "</div>"
      ],
      "text/plain": [
       "      artist             album       track_name                track_id  \\\n",
       "4   Dua Lipa  Future Nostalgia  Don't Start Now  3PfIrDoz19wz7qK7tYeu62   \n",
       "31  Dua Lipa  Future Nostalgia   Break My Heart  017PF4Q3l4DBUiWoXk4OWT   \n",
       "48  Dua Lipa  Future Nostalgia         Physical  3AzjcOeAmA57TIOr9zF1ZW   \n",
       "\n",
       "    energy  danceability  key  loudness  acousticness  speechiness  \\\n",
       "4    0.793         0.793   11    -4.521        0.0123       0.0830   \n",
       "31   0.729         0.730    4    -3.434        0.1670       0.0883   \n",
       "48   0.844         0.647    0    -3.756        0.0137       0.0457   \n",
       "\n",
       "    instrumentalness  liveness  valence    tempo  duration_ms  \\\n",
       "4           0.000000    0.0951    0.679  123.950       183290   \n",
       "31          0.000001    0.3490    0.467  113.013       221820   \n",
       "48          0.000658    0.1020    0.746  146.967       193829   \n",
       "\n",
       "               genre second_artist  \n",
       "4           Nu-disco          None  \n",
       "31   Dance-pop/Disco          None  \n",
       "48  Dance/Electronic          None  "
      ]
     },
     "execution_count": 759,
     "metadata": {},
     "output_type": "execute_result"
    }
   ],
   "source": [
    "toptracks_df[toptracks_df['album'] == 'Future Nostalgia']"
   ]
  },
  {
   "cell_type": "markdown",
   "metadata": {},
   "source": [
    "#### Question 2: How many ablums are in the top 50?<a name=\"albums-q2\"></a>\n",
    "\n",
    "45 albums have songs in the top 50. "
   ]
  },
  {
   "cell_type": "code",
   "execution_count": 760,
   "metadata": {},
   "outputs": [
    {
     "data": {
      "text/plain": [
       "45"
      ]
     },
     "execution_count": 760,
     "metadata": {},
     "output_type": "execute_result"
    }
   ],
   "source": [
    "len(album_counts)"
   ]
  },
  {
   "cell_type": "markdown",
   "metadata": {},
   "source": [
    "### Genre<a name=\"genre\"></a>\n",
    "\n",
    "Questions about genre:\n",
    "1. [Which genre is the most popular?](#genre-q1)\n",
    "2. [Which genres have just one song on the top 50?](#genre-q2)\n",
    "3. [How many genres in total are represented in the top 50?](#genre-q3)\n",
    "\n",
    "The provided genres contain both sub-categories and categories, as well as some tracks having multiple genres. It's difficult to tell with the current data which genres are part of the same parent genre, and exactly how many genres are represented in the top 50. We would be able to get a more comprehensive view about which genres are the most popualar if we had the parent genres (e.g. Disco-pop and Nu-disco are both part of the Disco genre, which in turn is part of the Electronic genre), and if tracks with multiple genres (e.g. Pop/Soft Rock) were split out.\n",
    "\n",
    "Most tracks fall under some form of Pop or Hip-hop.  "
   ]
  },
  {
   "cell_type": "markdown",
   "metadata": {},
   "source": [
    "#### Question 1: Which genre is the most popular?<a name=\"genre-q1\"></a>\n",
    "\n",
    "Based on the genres provided, Pop is the most popular, with 14 tracks."
   ]
  },
  {
   "cell_type": "code",
   "execution_count": 761,
   "metadata": {},
   "outputs": [
    {
     "name": "stdout",
     "output_type": "stream",
     "text": [
      "genre\n",
      "Pop                                   14\n",
      "Hip-Hop/Rap                           13\n",
      "Dance/Electronic                       5\n",
      "Alternative/Indie                      4\n",
      "R&B/Soul                               2\n",
      "Electro-pop                            2\n",
      "R&B/Hip-Hop alternative                1\n",
      "Nu-disco                               1\n",
      "Pop/Soft Rock                          1\n",
      "Pop rap                                1\n",
      "Hip-Hop/Trap                           1\n",
      "Dance-pop/Disco                        1\n",
      "Disco-pop                              1\n",
      "Dreampop/Hip-Hop/R&B                   1\n",
      "Alternative/reggaeton/experimental     1\n",
      "Chamber pop                            1\n",
      "Name: count, dtype: int64\n"
     ]
    }
   ],
   "source": [
    "genre_counts = toptracks_df.genre.value_counts()\n",
    "print(genre_counts)"
   ]
  },
  {
   "cell_type": "markdown",
   "metadata": {},
   "source": [
    "#### Question 2: Which genres have just one song on the top 50?<a name=\"genre-q2\"></a>\n",
    "\n",
    "10 genres have only one track in the top 50. However, we can see from the below list that most of these genres appear to fit into the same parent genre or share at least 1 genre with at least one other track. Arguably, the only track that actually has a unique genre is 'Safaera' by Bad Bunny, with the genre Alternative/reggaeton/experimental. "
   ]
  },
  {
   "cell_type": "code",
   "execution_count": 762,
   "metadata": {},
   "outputs": [
    {
     "name": "stdout",
     "output_type": "stream",
     "text": [
      "Number of genres with only 1 track: 10\n",
      "genre\n",
      "R&B/Hip-Hop alternative               1\n",
      "Nu-disco                              1\n",
      "Pop/Soft Rock                         1\n",
      "Pop rap                               1\n",
      "Hip-Hop/Trap                          1\n",
      "Dance-pop/Disco                       1\n",
      "Disco-pop                             1\n",
      "Dreampop/Hip-Hop/R&B                  1\n",
      "Alternative/reggaeton/experimental    1\n",
      "Chamber pop                           1\n",
      "Name: count, dtype: int64\n"
     ]
    }
   ],
   "source": [
    "print(\"Number of genres with only 1 track:\", len(genre_counts[genre_counts == 1]))\n",
    "print(genre_counts[genre_counts == 1])"
   ]
  },
  {
   "cell_type": "code",
   "execution_count": 763,
   "metadata": {},
   "outputs": [
    {
     "data": {
      "text/html": [
       "<div>\n",
       "<style scoped>\n",
       "    .dataframe tbody tr th:only-of-type {\n",
       "        vertical-align: middle;\n",
       "    }\n",
       "\n",
       "    .dataframe tbody tr th {\n",
       "        vertical-align: top;\n",
       "    }\n",
       "\n",
       "    .dataframe thead th {\n",
       "        text-align: right;\n",
       "    }\n",
       "</style>\n",
       "<table border=\"1\" class=\"dataframe\">\n",
       "  <thead>\n",
       "    <tr style=\"text-align: right;\">\n",
       "      <th></th>\n",
       "      <th>artist</th>\n",
       "      <th>track_name</th>\n",
       "    </tr>\n",
       "  </thead>\n",
       "  <tbody>\n",
       "    <tr>\n",
       "      <th>43</th>\n",
       "      <td>Bad Bunny</td>\n",
       "      <td>Safaera</td>\n",
       "    </tr>\n",
       "  </tbody>\n",
       "</table>\n",
       "</div>"
      ],
      "text/plain": [
       "       artist track_name\n",
       "43  Bad Bunny    Safaera"
      ]
     },
     "execution_count": 763,
     "metadata": {},
     "output_type": "execute_result"
    }
   ],
   "source": [
    "toptracks_df[toptracks_df['genre'] == 'Alternative/reggaeton/experimental'][['artist','track_name']]"
   ]
  },
  {
   "cell_type": "markdown",
   "metadata": {},
   "source": [
    "#### Question 3: How many genres in total are represented in the top 50?<a name=\"genre-q3\"></a>\n",
    "\n",
    "There are 16 sub-genres represented in the top 50. This count could be improved by getting the parent genres and splitting out tracks with multiple genres."
   ]
  },
  {
   "cell_type": "code",
   "execution_count": 764,
   "metadata": {},
   "outputs": [
    {
     "data": {
      "text/plain": [
       "16"
      ]
     },
     "execution_count": 764,
     "metadata": {},
     "output_type": "execute_result"
    }
   ],
   "source": [
    "len(genre_counts)"
   ]
  },
  {
   "cell_type": "markdown",
   "metadata": {},
   "source": [
    "### Tracks<a name=\"tracks\"></a>\n",
    "\n",
    "Questions about tracks:\n",
    "\n",
    "1. [Danceability](#danceability)<br/>\n",
    "    a. [Which tracks have the highest danceability?](#tracks-danceability-q1)<br/>\n",
    "    b. [Which tracks have the lowest danceability?](#tracks-danceability-q2)<br/>\n",
    "    c. [How does danceability compare across genres?](#tracks-danceability-q3)<br/>\n",
    "2. [Loudness](#loudness)<br/>\n",
    "    a. [Which tracks are the loudest?](#tracks-loudness-q1)<br/>\n",
    "    b. [Which tracks are the quietest?](#tracks-loudness-q2)<br/>\n",
    "    c. [How does loudness compare across genres?](#tracks-loudness-q3)<br/>\n",
    "3. [Acousticness](#acousticness)<br/>\n",
    "    a. [How does acousticness compare across genres?](#tracks-acousticness-q1)<br/>\n",
    "4. [Track length](#track-length)<br/>\n",
    "    a. [Which track is the longest?](#tracks-length-q1)<br/>\n",
    "    b. [Which track is the shortest?](#tracks-length-q2)<br/>\n",
    "\n",
    "When comparing across genres, I will limit the comparison to: Pop; Hip-Hop/Rap; Dance/Electronic; and Alternative/Indie. These are the 4 most used genres and thus will give the most insightful results."
   ]
  },
  {
   "cell_type": "markdown",
   "metadata": {},
   "source": [
    "#### Danceability<a name=\"danceability\"></a>\n",
    "\n",
    "Danceability is measured from 0 (completely un-danceable) to 1 (completely danceable). On average, tracks in the top 50 have high danceability, with a mean of 0.717 and median of 0.746. Danceability is moderately negatively skewed. This can be seen in the histogram, as the highest concentration of track is seen within about $\\pm$ 0.1 of the mean danceability, with most being just above the mean, but there is also a long, shallower tail into low danceability.\n",
    "\n",
    "From this, we can see that more danceable songs are typically more popular, although this is not always the case."
   ]
  },
  {
   "cell_type": "code",
   "execution_count": 765,
   "metadata": {},
   "outputs": [
    {
     "name": "stdout",
     "output_type": "stream",
     "text": [
      "Mean danceability: 0.717\n",
      "Median danceability: 0.746\n",
      "Skew: -0.882\n"
     ]
    }
   ],
   "source": [
    "print(f\"Mean danceability: {toptracks_df.danceability.mean():.3f}\")\n",
    "print(f\"Median danceability: {toptracks_df.danceability.median():.3f}\")\n",
    "print(f\"Skew: {toptracks_df.danceability.skew():.3f}\")"
   ]
  },
  {
   "cell_type": "code",
   "execution_count": 766,
   "metadata": {},
   "outputs": [
    {
     "data": {
      "text/plain": [
       "<matplotlib.legend.Legend at 0x120dab8ec90>"
      ]
     },
     "execution_count": 766,
     "metadata": {},
     "output_type": "execute_result"
    },
    {
     "data": {
      "image/png": "[encoded data removed]",
      "text/plain": [
       "<Figure size 640x480 with 1 Axes>"
      ]
     },
     "metadata": {},
     "output_type": "display_data"
    }
   ],
   "source": [
    "import matplotlib.pyplot as plt\n",
    "\n",
    "plt.hist(toptracks_df.danceability)\n",
    "plt.xlabel('Danceability')\n",
    "plt.ylabel('Number of tracks')\n",
    "plt.title('Danceability')\n",
    "plt.axvline(toptracks_df.danceability.mean(), color='r', linestyle='dashed', linewidth=1, label = 'Mean')\n",
    "plt.axvline(toptracks_df.danceability.median(), color='b', linestyle='dashed', linewidth=1, label = 'Median')\n",
    "plt.legend()"
   ]
  },
  {
   "cell_type": "markdown",
   "metadata": {},
   "source": [
    "##### Question 1: Which tracks have the highest danceability?<a name=\"tracks-danceability-q1\"></a>\n",
    "\n",
    "We can consider a track with danceability of more than 0.7 as having high danceability. 32 tracks have a danceability score more than 0.7, with 'WAP (feat. Megan Thee Stallion)' by Cardi B being the most danceable track. This is in keeping with the above discussion about negative skew, as 64% of the top 50 tracks have high danceability.\n"
   ]
  },
  {
   "cell_type": "code",
   "execution_count": 767,
   "metadata": {},
   "outputs": [
    {
     "name": "stdout",
     "output_type": "stream",
     "text": [
      "Number of danceable tracks: 32\n",
      "                                               danceability\n",
      "track_name                                                 \n",
      "WAP (feat. Megan Thee Stallion)                       0.935\n",
      "The Box                                               0.896\n",
      "Ride It                                               0.880\n",
      "Sunday Best                                           0.878\n",
      "Supalonely (feat. Gus Dapperton)                      0.862\n",
      "goosebumps                                            0.841\n",
      "SICKO MODE                                            0.834\n",
      "Toosie Slide                                          0.830\n",
      "Dance Monkey                                          0.825\n",
      "Godzilla (feat. Juice WRLD)                           0.808\n",
      "Intentions (feat. Quavo)                              0.806\n",
      "Tusa                                                  0.803\n",
      "Life Is Good (feat. Drake)                            0.795\n",
      "Don't Start Now                                       0.793\n",
      "Breaking Me                                           0.789\n",
      "Say So                                                0.787\n",
      "Roses - Imanbek Remix                                 0.785\n",
      "Falling                                               0.784\n",
      "Hawái                                                 0.783\n",
      "Blueberry Faygo                                       0.774\n",
      "Savage Love (Laxed - Siren Beat)                      0.767\n",
      "Memories                                              0.764\n",
      "Señorita                                              0.759\n",
      "Sunflower - Spider-Man: Into the Spider-Verse         0.755\n",
      "Dynamite                                              0.746\n",
      "ROCKSTAR (feat. Roddy Ricch)                          0.746\n",
      "Break My Heart                                        0.730\n",
      "death bed (coffee for your head)                      0.726\n",
      "RITMO (Bad Boys For Life)                             0.723\n",
      "THE SCOTTS                                            0.716\n",
      "everything i wanted                                   0.704\n",
      "bad guy                                               0.701\n"
     ]
    }
   ],
   "source": [
    "danceable_tracks = toptracks_df[toptracks_df['danceability'] > 0.7][['track_name','danceability']].sort_values(by='danceability',ascending=False).set_index('track_name')\n",
    "print(\"Number of danceable tracks:\", len(danceable_tracks))\n",
    "print(danceable_tracks)"
   ]
  },
  {
   "cell_type": "markdown",
   "metadata": {},
   "source": [
    "##### Question 2: Which tracks have the lowest danceability?<a name=\"tracks-danceability-q2\"></a>\n",
    "\n",
    "We can consider a track with danceability of less than 0.4 as having low danceability. Only 1 song ('lovely (with Khalid)' by Billie Eilish) has a low danceability score. "
   ]
  },
  {
   "cell_type": "code",
   "execution_count": 768,
   "metadata": {},
   "outputs": [
    {
     "name": "stdout",
     "output_type": "stream",
     "text": [
      "Number of un-danceable tracks: 1\n",
      "                      danceability\n",
      "track_name                        \n",
      "lovely (with Khalid)         0.351\n"
     ]
    }
   ],
   "source": [
    "undanceable_tracks = toptracks_df[toptracks_df['danceability'] < 0.4][['track_name','danceability']].sort_values(by='danceability',ascending=False).set_index('track_name')\n",
    "print(\"Number of un-danceable tracks:\", len(undanceable_tracks))\n",
    "print(undanceable_tracks)"
   ]
  },
  {
   "cell_type": "markdown",
   "metadata": {},
   "source": [
    "##### Question 3: How does danceability compare across genres?<a name=\"tracks-danceability-q3\"></a>\n",
    "\n",
    "When comparing danceability between the genres Pop (P); Hip-Hop/Rap (HR); Dance/Electronic (DE); and Alternative/Indie (AI), we find that:\n",
    "\n",
    "1. HR has the highest mean dancability, but DE has the highest median. These genres are highly danceable. P and AI have lower averages but still have similarly high average danceabilities.\n",
    "2. HR and DE have very similar summary statistics (mean, median and max are all only different by 0.01) but noticably different distributions (DE has a slight positive skew, whereas HR has a much more pronounced negative skew). We can see this in the plot, where DE is mostly evenly spaced and centered around its average but slightly concentrated just below, whereas HR has a longer tail with a lower minimum danceability but is concentrated above its average.\n",
    "3. Similar to HR and DE, P and AI also have very similar summary statistics (mean and min are within about 0.01) but again AI has almost no skew at all whereas P have a much more pronounced negative skew, again concentrating just above its average but having a long tail and low minimum.\n",
    "4. AI is the most spread out of any genre, with either very high or very low danceability. The other genres have less spread, with DE appearing the least spread out on the graph and HR having the lowest standard deviation and variance (although DE is only marginally more).\n",
    "5. AI has the lowest minimum danceability. There is a significant different between the minimum danceabilities, with a different of almost 0.2 between AI and DE (which has the highest minimum), suggesting DE tracks are rarely not danceable and that generally, some genres are always danceable.\n",
    "6. HR has the highest maximum danceability, however however there isn't significant variation between the maximum danceability across the genres (<0.1). This suggests that most genres are capable of being highly danceable, even if it's not typical for that genre.\n"
   ]
  },
  {
   "cell_type": "code",
   "execution_count": 769,
   "metadata": {},
   "outputs": [
    {
     "data": {
      "text/html": [
       "<div>\n",
       "<style scoped>\n",
       "    .dataframe tbody tr th:only-of-type {\n",
       "        vertical-align: middle;\n",
       "    }\n",
       "\n",
       "    .dataframe tbody tr th {\n",
       "        vertical-align: top;\n",
       "    }\n",
       "\n",
       "    .dataframe thead th {\n",
       "        text-align: right;\n",
       "    }\n",
       "</style>\n",
       "<table border=\"1\" class=\"dataframe\">\n",
       "  <thead>\n",
       "    <tr style=\"text-align: right;\">\n",
       "      <th></th>\n",
       "      <th>mean</th>\n",
       "      <th>median</th>\n",
       "      <th>max</th>\n",
       "      <th>min</th>\n",
       "      <th>std</th>\n",
       "      <th>var</th>\n",
       "      <th>skew</th>\n",
       "    </tr>\n",
       "    <tr>\n",
       "      <th>genre</th>\n",
       "      <th></th>\n",
       "      <th></th>\n",
       "      <th></th>\n",
       "      <th></th>\n",
       "      <th></th>\n",
       "      <th></th>\n",
       "      <th></th>\n",
       "    </tr>\n",
       "  </thead>\n",
       "  <tbody>\n",
       "    <tr>\n",
       "      <th>Pop</th>\n",
       "      <td>0.677571</td>\n",
       "      <td>0.690</td>\n",
       "      <td>0.806</td>\n",
       "      <td>0.464</td>\n",
       "      <td>0.109853</td>\n",
       "      <td>0.012068</td>\n",
       "      <td>-0.710864</td>\n",
       "    </tr>\n",
       "    <tr>\n",
       "      <th>Hip-Hop/Rap</th>\n",
       "      <td>0.765538</td>\n",
       "      <td>0.774</td>\n",
       "      <td>0.896</td>\n",
       "      <td>0.598</td>\n",
       "      <td>0.085470</td>\n",
       "      <td>0.007305</td>\n",
       "      <td>-0.721079</td>\n",
       "    </tr>\n",
       "    <tr>\n",
       "      <th>Dance/Electronic</th>\n",
       "      <td>0.755000</td>\n",
       "      <td>0.785</td>\n",
       "      <td>0.880</td>\n",
       "      <td>0.647</td>\n",
       "      <td>0.094744</td>\n",
       "      <td>0.008976</td>\n",
       "      <td>0.111838</td>\n",
       "    </tr>\n",
       "    <tr>\n",
       "      <th>Alternative/Indie</th>\n",
       "      <td>0.661750</td>\n",
       "      <td>0.663</td>\n",
       "      <td>0.862</td>\n",
       "      <td>0.459</td>\n",
       "      <td>0.211107</td>\n",
       "      <td>0.044566</td>\n",
       "      <td>-0.007631</td>\n",
       "    </tr>\n",
       "  </tbody>\n",
       "</table>\n",
       "</div>"
      ],
      "text/plain": [
       "                       mean  median    max    min       std       var  \\\n",
       "genre                                                                   \n",
       "Pop                0.677571   0.690  0.806  0.464  0.109853  0.012068   \n",
       "Hip-Hop/Rap        0.765538   0.774  0.896  0.598  0.085470  0.007305   \n",
       "Dance/Electronic   0.755000   0.785  0.880  0.647  0.094744  0.008976   \n",
       "Alternative/Indie  0.661750   0.663  0.862  0.459  0.211107  0.044566   \n",
       "\n",
       "                       skew  \n",
       "genre                        \n",
       "Pop               -0.710864  \n",
       "Hip-Hop/Rap       -0.721079  \n",
       "Dance/Electronic   0.111838  \n",
       "Alternative/Indie -0.007631  "
      ]
     },
     "execution_count": 769,
     "metadata": {},
     "output_type": "execute_result"
    }
   ],
   "source": [
    "toptracks_df.groupby('genre').danceability.agg(['mean','median','max','min','std','var','skew']).loc[['Pop', 'Hip-Hop/Rap','Dance/Electronic','Alternative/Indie']]"
   ]
  },
  {
   "cell_type": "code",
   "execution_count": 770,
   "metadata": {},
   "outputs": [
    {
     "data": {
      "text/plain": [
       "<matplotlib.legend.Legend at 0x120eb397b00>"
      ]
     },
     "execution_count": 770,
     "metadata": {},
     "output_type": "execute_result"
    },
    {
     "data": {
      "image/png": "[encoded data removed]",
      "text/plain": [
       "<Figure size 640x480 with 1 Axes>"
      ]
     },
     "metadata": {},
     "output_type": "display_data"
    }
   ],
   "source": [
    "danceabilities_plot = [toptracks_df[toptracks_df['genre'] == 'Pop'].danceability,toptracks_df[toptracks_df['genre'] == 'Hip-Hop/Rap'].danceability,toptracks_df[toptracks_df['genre'] == 'Dance/Electronic'].danceability,toptracks_df[toptracks_df['genre'] == 'Alternative/Indie'].danceability]\n",
    "\n",
    "plt.hist(danceabilities_plot, label=['Pop', 'Hip-Hop/Rap', 'Dance/Electronic', 'Alternative/Indie'], bins=5)\n",
    "plt.xlabel('Danceability')\n",
    "plt.ylabel('Number of tracks')\n",
    "plt.title('Danceability')\n",
    "plt.legend()\n"
   ]
  },
  {
   "cell_type": "markdown",
   "metadata": {},
   "source": [
    "#### Loudness<a name=\"loudness\"></a>\n",
    "\n",
    "Loudness is a continuous variable. In our dataset, loudness ranges between -14.5 and -3.2. Tracks get louder as loudness gets closer to 0. Loudness is strongly negatively skewed, meaning most of the top 50 are louder tracks - this can be seen on the graph, with the loudest bin having the most tracks."
   ]
  },
  {
   "cell_type": "code",
   "execution_count": 771,
   "metadata": {},
   "outputs": [
    {
     "name": "stdout",
     "output_type": "stream",
     "text": [
      "Mean loudness: -6.226\n",
      "Median loudness: -5.992\n",
      "Max loudness: -3.280\n",
      "Min loudness: -14.454\n",
      "Skew: -1.032\n"
     ]
    }
   ],
   "source": [
    "print(f\"Mean loudness: {toptracks_df.loudness.mean():.3f}\")\n",
    "print(f\"Median loudness: {toptracks_df.loudness.median():.3f}\")\n",
    "print(f\"Max loudness: {toptracks_df.loudness.max():.3f}\")\n",
    "print(f\"Min loudness: {toptracks_df.loudness.min():.3f}\")\n",
    "print(f\"Skew: {toptracks_df.loudness.skew():.3f}\")"
   ]
  },
  {
   "cell_type": "code",
   "execution_count": 772,
   "metadata": {},
   "outputs": [
    {
     "data": {
      "text/plain": [
       "<matplotlib.legend.Legend at 0x120eb446ff0>"
      ]
     },
     "execution_count": 772,
     "metadata": {},
     "output_type": "execute_result"
    },
    {
     "data": {
      "image/png": "[encoded data removed]",
      "text/plain": [
       "<Figure size 640x480 with 1 Axes>"
      ]
     },
     "metadata": {},
     "output_type": "display_data"
    }
   ],
   "source": [
    "plt.hist(toptracks_df.loudness)\n",
    "plt.xlabel('Loudness')\n",
    "plt.ylabel('Number of tracks')\n",
    "plt.title('Loudness')\n",
    "plt.axvline(toptracks_df.loudness.mean(), color='r', linestyle='dashed', linewidth=1, label = 'Mean')\n",
    "plt.axvline(toptracks_df.loudness.median(), color='b', linestyle='dashed', linewidth=1, label = 'Median')\n",
    "plt.legend()"
   ]
  },
  {
   "cell_type": "markdown",
   "metadata": {},
   "source": [
    "From this graph, we can see that most tracks are centered pretty equally around around the average loudness (although this is not a perfect distrubtion). Only 4 tracks are significantly outside of the main distribution. We can see that all of these are some form of Pop, suggesting this genre may be quieter. We can also see that, when excluding these 4 tracks, that the average increases slightly, and the skew decreases substainally.  "
   ]
  },
  {
   "cell_type": "code",
   "execution_count": 773,
   "metadata": {},
   "outputs": [
    {
     "data": {
      "text/html": [
       "<div>\n",
       "<style scoped>\n",
       "    .dataframe tbody tr th:only-of-type {\n",
       "        vertical-align: middle;\n",
       "    }\n",
       "\n",
       "    .dataframe tbody tr th {\n",
       "        vertical-align: top;\n",
       "    }\n",
       "\n",
       "    .dataframe thead th {\n",
       "        text-align: right;\n",
       "    }\n",
       "</style>\n",
       "<table border=\"1\" class=\"dataframe\">\n",
       "  <thead>\n",
       "    <tr style=\"text-align: right;\">\n",
       "      <th></th>\n",
       "      <th>track_name</th>\n",
       "      <th>loudness</th>\n",
       "      <th>genre</th>\n",
       "    </tr>\n",
       "  </thead>\n",
       "  <tbody>\n",
       "    <tr>\n",
       "      <th>24</th>\n",
       "      <td>everything i wanted</td>\n",
       "      <td>-14.454</td>\n",
       "      <td>Pop</td>\n",
       "    </tr>\n",
       "    <tr>\n",
       "      <th>26</th>\n",
       "      <td>bad guy</td>\n",
       "      <td>-10.965</td>\n",
       "      <td>Electro-pop</td>\n",
       "    </tr>\n",
       "    <tr>\n",
       "      <th>44</th>\n",
       "      <td>lovely (with Khalid)</td>\n",
       "      <td>-10.109</td>\n",
       "      <td>Chamber pop</td>\n",
       "    </tr>\n",
       "    <tr>\n",
       "      <th>47</th>\n",
       "      <td>If the World Was Ending - feat. Julia Michaels</td>\n",
       "      <td>-10.086</td>\n",
       "      <td>Pop</td>\n",
       "    </tr>\n",
       "  </tbody>\n",
       "</table>\n",
       "</div>"
      ],
      "text/plain": [
       "                                        track_name  loudness        genre\n",
       "24                             everything i wanted   -14.454          Pop\n",
       "26                                         bad guy   -10.965  Electro-pop\n",
       "44                            lovely (with Khalid)   -10.109  Chamber pop\n",
       "47  If the World Was Ending - feat. Julia Michaels   -10.086          Pop"
      ]
     },
     "execution_count": 773,
     "metadata": {},
     "output_type": "execute_result"
    }
   ],
   "source": [
    "toptracks_df[toptracks_df.loudness < -10][['track_name','loudness','genre']]"
   ]
  },
  {
   "cell_type": "code",
   "execution_count": 774,
   "metadata": {},
   "outputs": [
    {
     "name": "stdout",
     "output_type": "stream",
     "text": [
      "Mean loudness: -5.776\n",
      "Median loudness: -5.665\n",
      "Skew: -0.188\n"
     ]
    }
   ],
   "source": [
    "print(f\"Mean loudness: {toptracks_df[toptracks_df.loudness >= -10].loudness.mean():.3f}\")\n",
    "print(f\"Median loudness: {toptracks_df[toptracks_df.loudness >= -10].loudness.median():.3f}\")\n",
    "print(f\"Skew: {toptracks_df[toptracks_df.loudness >= -10].loudness.skew():.3f}\")"
   ]
  },
  {
   "cell_type": "markdown",
   "metadata": {},
   "source": [
    "##### Question 1: Which tracks are the loudest?<a name=\"tracks-loudness-q1\"></a>\n",
    "\n",
    "We can consider a track loud when its loudness is more than -5. There are 19 loud tracks, with the loudest being 'Tusa'. This suggests that it is common for popular tracks to be loud, although they don't need to be loud to be popular."
   ]
  },
  {
   "cell_type": "code",
   "execution_count": 775,
   "metadata": {},
   "outputs": [
    {
     "name": "stdout",
     "output_type": "stream",
     "text": [
      "Number of loud tracks: 19\n",
      "                                               loudness\n",
      "track_name                                             \n",
      "Tusa                                             -3.280\n",
      "goosebumps                                       -3.370\n",
      "Break My Heart                                   -3.434\n",
      "Hawái                                            -3.454\n",
      "Circles                                          -3.497\n",
      "Mood (feat. iann dior)                           -3.558\n",
      "Adore You                                        -3.675\n",
      "SICKO MODE                                       -3.714\n",
      "Physical                                         -3.756\n",
      "Rain On Me (with Ariana Grande)                  -3.764\n",
      "Safaera                                          -4.074\n",
      "Watermelon Sugar                                 -4.209\n",
      "Ride It                                          -4.258\n",
      "Sunflower - Spider-Man: Into the Spider-Verse    -4.368\n",
      "Dynamite                                         -4.410\n",
      "Don't Start Now                                  -4.521\n",
      "Say So                                           -4.577\n",
      "Supalonely (feat. Gus Dapperton)                 -4.746\n",
      "Before You Go                                    -4.858\n"
     ]
    }
   ],
   "source": [
    "loud_tracks = toptracks_df[toptracks_df['loudness'] > -5][['track_name','loudness']].sort_values(by='loudness',ascending=False).set_index('track_name')\n",
    "print(\"Number of loud tracks:\", len(loud_tracks))\n",
    "print(loud_tracks)"
   ]
  },
  {
   "cell_type": "markdown",
   "metadata": {},
   "source": [
    "##### Question 2: Which tracks are the quiestest?<a name=\"tracks-loudness-q2\"></a>\n",
    "\n",
    "We can consider a track quiet when its loudness is less than -8. There are 9 quiet tracks, of which the quietest is 'everything i wanted'. Similar to loud tracks, this suggests that it's not uncommon for popular tracks to be quiet (although about half as common as loud tracks), but on average, popular tracks are neither particularly quiet or loud."
   ]
  },
  {
   "cell_type": "code",
   "execution_count": 776,
   "metadata": {},
   "outputs": [
    {
     "name": "stdout",
     "output_type": "stream",
     "text": [
      "Number of quiet tracks: 9\n",
      "                                                loudness\n",
      "track_name                                              \n",
      "everything i wanted                              -14.454\n",
      "bad guy                                          -10.965\n",
      "lovely (with Khalid)                             -10.109\n",
      "If the World Was Ending - feat. Julia Michaels   -10.086\n",
      "Toosie Slide                                      -8.820\n",
      "death bed (coffee for your head)                  -8.765\n",
      "HIGHEST IN THE ROOM                               -8.764\n",
      "Falling                                           -8.756\n",
      "Savage Love (Laxed - Siren Beat)                  -8.520\n"
     ]
    }
   ],
   "source": [
    "quiet_tracks = toptracks_df[toptracks_df['loudness'] < -8][['track_name','loudness']].sort_values(by='loudness').set_index('track_name')\n",
    "print(\"Number of quiet tracks:\", len(quiet_tracks))\n",
    "print(quiet_tracks)"
   ]
  },
  {
   "cell_type": "markdown",
   "metadata": {},
   "source": [
    "##### Question 3: How does loudness compare across genres?<a name=\"tracks-loudness-q3\"></a>\n",
    "\n",
    "When comparing loudness between the genres Pop (P); Hip-Hop/Rap (HR); Dance/Electronic (DE); and Alternative/Indie (AI), we find that:\n",
    "1. All genres has at least moderate skew, suggesting extreme values are common across genres. P has the strongest skew, which can be seen in the graph, as it's the only genre with very low loudnesses.\n",
    "2. Only HR has positive skew, the other genres have negative skews. This suggests that being quieter is more typical for HR, whereas being louder is more typical for the other genres.\n",
    "3. P has by far the highest deviation and variance, which can be seen on the graph - the other genres are clustered much closer together, whereas P is more spread out. \n",
    "4. AI has the smallest deviation of the genres and skews towards louder tracks.\n",
    "5. There is much more difference in the quietest tracks of each genre, compared to the difference in the loudest tracks. Some genres have a much higher minimum than others (e.g. DE and AI). This suggests any genre can have loud tracks but only some genres have quiet or very quiet tracks.\n",
    "6. DE and AI are the loudest genres, and have very similar averages. DE has a higher max loudness but lower min loudness, and has more variation in loudness compared to AI. "
   ]
  },
  {
   "cell_type": "code",
   "execution_count": 777,
   "metadata": {},
   "outputs": [
    {
     "data": {
      "text/html": [
       "<div>\n",
       "<style scoped>\n",
       "    .dataframe tbody tr th:only-of-type {\n",
       "        vertical-align: middle;\n",
       "    }\n",
       "\n",
       "    .dataframe tbody tr th {\n",
       "        vertical-align: top;\n",
       "    }\n",
       "\n",
       "    .dataframe thead th {\n",
       "        text-align: right;\n",
       "    }\n",
       "</style>\n",
       "<table border=\"1\" class=\"dataframe\">\n",
       "  <thead>\n",
       "    <tr style=\"text-align: right;\">\n",
       "      <th></th>\n",
       "      <th>mean</th>\n",
       "      <th>median</th>\n",
       "      <th>max</th>\n",
       "      <th>min</th>\n",
       "      <th>std</th>\n",
       "      <th>var</th>\n",
       "      <th>skew</th>\n",
       "    </tr>\n",
       "    <tr>\n",
       "      <th>genre</th>\n",
       "      <th></th>\n",
       "      <th></th>\n",
       "      <th></th>\n",
       "      <th></th>\n",
       "      <th></th>\n",
       "      <th></th>\n",
       "      <th></th>\n",
       "    </tr>\n",
       "  </thead>\n",
       "  <tbody>\n",
       "    <tr>\n",
       "      <th>Pop</th>\n",
       "      <td>-6.460357</td>\n",
       "      <td>-6.6445</td>\n",
       "      <td>-3.280</td>\n",
       "      <td>-14.454</td>\n",
       "      <td>3.014281</td>\n",
       "      <td>9.085892</td>\n",
       "      <td>-1.466538</td>\n",
       "    </tr>\n",
       "    <tr>\n",
       "      <th>Hip-Hop/Rap</th>\n",
       "      <td>-6.917846</td>\n",
       "      <td>-7.6480</td>\n",
       "      <td>-3.370</td>\n",
       "      <td>-8.820</td>\n",
       "      <td>1.891808</td>\n",
       "      <td>3.578936</td>\n",
       "      <td>0.847259</td>\n",
       "    </tr>\n",
       "    <tr>\n",
       "      <th>Dance/Electronic</th>\n",
       "      <td>-5.338000</td>\n",
       "      <td>-5.4570</td>\n",
       "      <td>-3.756</td>\n",
       "      <td>-7.567</td>\n",
       "      <td>1.479047</td>\n",
       "      <td>2.187581</td>\n",
       "      <td>-0.758282</td>\n",
       "    </tr>\n",
       "    <tr>\n",
       "      <th>Alternative/Indie</th>\n",
       "      <td>-5.421000</td>\n",
       "      <td>-5.2685</td>\n",
       "      <td>-4.746</td>\n",
       "      <td>-6.401</td>\n",
       "      <td>0.774502</td>\n",
       "      <td>0.599853</td>\n",
       "      <td>-0.677828</td>\n",
       "    </tr>\n",
       "  </tbody>\n",
       "</table>\n",
       "</div>"
      ],
      "text/plain": [
       "                       mean  median    max     min       std       var  \\\n",
       "genre                                                                    \n",
       "Pop               -6.460357 -6.6445 -3.280 -14.454  3.014281  9.085892   \n",
       "Hip-Hop/Rap       -6.917846 -7.6480 -3.370  -8.820  1.891808  3.578936   \n",
       "Dance/Electronic  -5.338000 -5.4570 -3.756  -7.567  1.479047  2.187581   \n",
       "Alternative/Indie -5.421000 -5.2685 -4.746  -6.401  0.774502  0.599853   \n",
       "\n",
       "                       skew  \n",
       "genre                        \n",
       "Pop               -1.466538  \n",
       "Hip-Hop/Rap        0.847259  \n",
       "Dance/Electronic  -0.758282  \n",
       "Alternative/Indie -0.677828  "
      ]
     },
     "execution_count": 777,
     "metadata": {},
     "output_type": "execute_result"
    }
   ],
   "source": [
    "toptracks_df.groupby('genre').loudness.agg(['mean','median','max','min','std','var','skew']).loc[['Pop', 'Hip-Hop/Rap','Dance/Electronic','Alternative/Indie']]"
   ]
  },
  {
   "cell_type": "code",
   "execution_count": 778,
   "metadata": {},
   "outputs": [
    {
     "data": {
      "text/plain": [
       "<matplotlib.legend.Legend at 0x120eb4feed0>"
      ]
     },
     "execution_count": 778,
     "metadata": {},
     "output_type": "execute_result"
    },
    {
     "data": {
      "image/png": "[encoded data removed]",
      "text/plain": [
       "<Figure size 640x480 with 1 Axes>"
      ]
     },
     "metadata": {},
     "output_type": "display_data"
    }
   ],
   "source": [
    "loudness_plot = [toptracks_df[toptracks_df['genre'] == 'Pop'].loudness,toptracks_df[toptracks_df['genre'] == 'Hip-Hop/Rap'].loudness,toptracks_df[toptracks_df['genre'] == 'Dance/Electronic'].loudness,toptracks_df[toptracks_df['genre'] == 'Alternative/Indie'].loudness]\n",
    "\n",
    "plt.hist(loudness_plot, label=['Pop', 'Hip-Hop/Rap', 'Dance/Electronic', 'Alternative/Indie'], bins=5)\n",
    "plt.xlabel('Loudness')\n",
    "plt.ylabel('Number of tracks')\n",
    "plt.title('Loudness')\n",
    "plt.legend()"
   ]
  },
  {
   "cell_type": "markdown",
   "metadata": {},
   "source": [
    "#### Acousticness<a name=\"acousticness\"></a>\n",
    "\n",
    "Acousticness is a measure of how acoustic a track sounds, measured from 0 (completely not acoustic) to 1 (completely acoustic). On average, tracks in the top 50 are not very acoustic, with a mean of 0.256 and a median of 0.189, and the tracks are strongly positively skewed towards being not acoustic. 17 tracks have very low acousticness (less than 0.1), which is almost twice as many as tracks with acousticness above 0.5. This suggests it's much less common for popular songs to be acoustic. "
   ]
  },
  {
   "cell_type": "code",
   "execution_count": 779,
   "metadata": {},
   "outputs": [
    {
     "name": "stdout",
     "output_type": "stream",
     "text": [
      "Mean acousticness: 0.256\n",
      "Median acousticness: 0.189\n",
      "Skew: 1.326\n",
      "Number of tracks with very low acousticness: 17\n",
      "Number of tracks with higher acousticness: 9\n"
     ]
    }
   ],
   "source": [
    "print(f\"Mean acousticness: {toptracks_df.acousticness.mean():.3f}\")\n",
    "print(f\"Median acousticness: {toptracks_df.acousticness.median():.3f}\")\n",
    "print(f\"Skew: {toptracks_df.acousticness.skew():.3f}\")\n",
    "print(f\"Number of tracks with very low acousticness: {toptracks_df[toptracks_df.acousticness < 0.1].track_name.count()}\")\n",
    "print(f\"Number of tracks with higher acousticness: {toptracks_df[toptracks_df.acousticness > 0.5].track_name.count()}\")"
   ]
  },
  {
   "cell_type": "code",
   "execution_count": 780,
   "metadata": {},
   "outputs": [
    {
     "data": {
      "text/plain": [
       "<matplotlib.legend.Legend at 0x120dbe4c740>"
      ]
     },
     "execution_count": 780,
     "metadata": {},
     "output_type": "execute_result"
    },
    {
     "data": {
      "image/png": "[encoded data removed]",
      "text/plain": [
       "<Figure size 640x480 with 1 Axes>"
      ]
     },
     "metadata": {},
     "output_type": "display_data"
    }
   ],
   "source": [
    "plt.hist(toptracks_df.acousticness)\n",
    "plt.xlabel('Acousticness')\n",
    "plt.ylabel('Number of tracks')\n",
    "plt.title('Acousticness')\n",
    "plt.axvline(toptracks_df.acousticness.mean(), color='r', linestyle='dashed', linewidth=1, label = 'Mean')\n",
    "plt.axvline(toptracks_df.acousticness.median(), color='b', linestyle='dashed', linewidth=1, label = 'Median')\n",
    "plt.legend()"
   ]
  },
  {
   "cell_type": "markdown",
   "metadata": {},
   "source": [
    "##### Question 1: How does acousticness compare across genres?<a name=\"tracks-acousticness-q1\"></a>\n",
    "\n",
    "When comparing acousticness between the genres Pop (P); Hip-Hop/Rap (HR); Dance/Electronic (DE); and Alternative/Indie (AI), we find that:\n",
    "1. Most genres typically have low acousticness, with AI being the only expection - AI tracks typically have high acousticness with only 1 exception, which is still higher than most tracks in the other genres.\n",
    "2. Only DE has exclusively low acousticness, having a max of 0.223. Every other genre has at least 1 track with high acousticness. \n",
    "3. The lowest acousticness in the AI genre is still more than maximum acousticness in the DE genre.\n",
    "4. While AI has the highest average acousticness (mean: 0.584, median: 0.646), P has the highest instance of acousticness (0.902).\n",
    "5. DE has the least deviation of the genres and the lowest skew, as it's the most clustered genre.\n",
    "6. Only AI has negative skew, skewing towards being more acoustic. All other genres have positive skews, towards being less acoustic, with HR in particular being very postively skewed. "
   ]
  },
  {
   "cell_type": "code",
   "execution_count": 781,
   "metadata": {},
   "outputs": [
    {
     "data": {
      "text/html": [
       "<div>\n",
       "<style scoped>\n",
       "    .dataframe tbody tr th:only-of-type {\n",
       "        vertical-align: middle;\n",
       "    }\n",
       "\n",
       "    .dataframe tbody tr th {\n",
       "        vertical-align: top;\n",
       "    }\n",
       "\n",
       "    .dataframe thead th {\n",
       "        text-align: right;\n",
       "    }\n",
       "</style>\n",
       "<table border=\"1\" class=\"dataframe\">\n",
       "  <thead>\n",
       "    <tr style=\"text-align: right;\">\n",
       "      <th></th>\n",
       "      <th>mean</th>\n",
       "      <th>median</th>\n",
       "      <th>max</th>\n",
       "      <th>min</th>\n",
       "      <th>std</th>\n",
       "      <th>var</th>\n",
       "      <th>skew</th>\n",
       "    </tr>\n",
       "    <tr>\n",
       "      <th>genre</th>\n",
       "      <th></th>\n",
       "      <th></th>\n",
       "      <th></th>\n",
       "      <th></th>\n",
       "      <th></th>\n",
       "      <th></th>\n",
       "      <th></th>\n",
       "    </tr>\n",
       "  </thead>\n",
       "  <tbody>\n",
       "    <tr>\n",
       "      <th>Pop</th>\n",
       "      <td>0.323843</td>\n",
       "      <td>0.2590</td>\n",
       "      <td>0.902</td>\n",
       "      <td>0.02100</td>\n",
       "      <td>0.318142</td>\n",
       "      <td>0.101215</td>\n",
       "      <td>1.035334</td>\n",
       "    </tr>\n",
       "    <tr>\n",
       "      <th>Hip-Hop/Rap</th>\n",
       "      <td>0.188741</td>\n",
       "      <td>0.1450</td>\n",
       "      <td>0.731</td>\n",
       "      <td>0.00513</td>\n",
       "      <td>0.186396</td>\n",
       "      <td>0.034743</td>\n",
       "      <td>2.221335</td>\n",
       "    </tr>\n",
       "    <tr>\n",
       "      <th>Dance/Electronic</th>\n",
       "      <td>0.099440</td>\n",
       "      <td>0.0686</td>\n",
       "      <td>0.223</td>\n",
       "      <td>0.01370</td>\n",
       "      <td>0.095828</td>\n",
       "      <td>0.009183</td>\n",
       "      <td>0.515687</td>\n",
       "    </tr>\n",
       "    <tr>\n",
       "      <th>Alternative/Indie</th>\n",
       "      <td>0.583500</td>\n",
       "      <td>0.6460</td>\n",
       "      <td>0.751</td>\n",
       "      <td>0.29100</td>\n",
       "      <td>0.204086</td>\n",
       "      <td>0.041651</td>\n",
       "      <td>-1.503933</td>\n",
       "    </tr>\n",
       "  </tbody>\n",
       "</table>\n",
       "</div>"
      ],
      "text/plain": [
       "                       mean  median    max      min       std       var  \\\n",
       "genre                                                                     \n",
       "Pop                0.323843  0.2590  0.902  0.02100  0.318142  0.101215   \n",
       "Hip-Hop/Rap        0.188741  0.1450  0.731  0.00513  0.186396  0.034743   \n",
       "Dance/Electronic   0.099440  0.0686  0.223  0.01370  0.095828  0.009183   \n",
       "Alternative/Indie  0.583500  0.6460  0.751  0.29100  0.204086  0.041651   \n",
       "\n",
       "                       skew  \n",
       "genre                        \n",
       "Pop                1.035334  \n",
       "Hip-Hop/Rap        2.221335  \n",
       "Dance/Electronic   0.515687  \n",
       "Alternative/Indie -1.503933  "
      ]
     },
     "execution_count": 781,
     "metadata": {},
     "output_type": "execute_result"
    }
   ],
   "source": [
    "toptracks_df.groupby('genre').acousticness.agg(['mean','median','max','min','std','var','skew']).loc[['Pop', 'Hip-Hop/Rap','Dance/Electronic','Alternative/Indie']]"
   ]
  },
  {
   "cell_type": "code",
   "execution_count": 782,
   "metadata": {},
   "outputs": [
    {
     "data": {
      "text/plain": [
       "<matplotlib.legend.Legend at 0x120eb4c4b00>"
      ]
     },
     "execution_count": 782,
     "metadata": {},
     "output_type": "execute_result"
    },
    {
     "data": {
      "image/png": "[encoded data removed]",
      "text/plain": [
       "<Figure size 640x480 with 1 Axes>"
      ]
     },
     "metadata": {},
     "output_type": "display_data"
    }
   ],
   "source": [
    "acousticness_plot = [toptracks_df[toptracks_df['genre'] == 'Pop'].acousticness,toptracks_df[toptracks_df['genre'] == 'Hip-Hop/Rap'].acousticness,toptracks_df[toptracks_df['genre'] == 'Dance/Electronic'].acousticness,toptracks_df[toptracks_df['genre'] == 'Alternative/Indie'].acousticness]\n",
    "\n",
    "plt.hist(acousticness_plot, label=['Pop', 'Hip-Hop/Rap', 'Dance/Electronic', 'Alternative/Indie'], bins=5)\n",
    "plt.xlabel('Acousticness')\n",
    "plt.ylabel('Number of tracks')\n",
    "plt.title('Acousticness')\n",
    "plt.legend()"
   ]
  },
  {
   "cell_type": "markdown",
   "metadata": {},
   "source": [
    "#### Track Length<a name=\"track-length\"></a>\n",
    "\n",
    "On average, top 50 tracks are around 3 minutes and 20 seconds long. There is a strong positive skew, which is mostly accounted for by the 2 longest tracks. The top 50 appear to follow a normal distribution when ignoring these 2 tracks. "
   ]
  },
  {
   "cell_type": "code",
   "execution_count": 783,
   "metadata": {},
   "outputs": [
    {
     "name": "stdout",
     "output_type": "stream",
     "text": [
      "Mean length: 3 minutes 19 seconds\n",
      "Median length: 3 minutes 17 seconds\n",
      "Max length: 5 minutes 12 seconds\n",
      "Min length: 2 minutes 20 seconds\n",
      "Skew: 1.09187639306071\n"
     ]
    }
   ],
   "source": [
    "mins_mean_track, secs_mean_track = divmod(toptracks_df.duration_ms.mean() / 1000 / 60, 1)\n",
    "secs_mean_track = secs_mean_track * 60\n",
    "\n",
    "mins_median_track, secs_median_track = divmod(toptracks_df.duration_ms.median() / 1000 / 60, 1)\n",
    "secs_median_track = secs_median_track * 60\n",
    "\n",
    "mins_max_track, secs_max_track = divmod(toptracks_df.duration_ms.max() / 1000 / 60, 1)\n",
    "secs_max_track = secs_max_track * 60\n",
    "\n",
    "mins_min_track, secs_min_track = divmod(toptracks_df.duration_ms.min() / 1000 / 60, 1)\n",
    "secs_min_track = secs_min_track * 60\n",
    "\n",
    "print(f\"Mean length: {int(mins_mean_track)} minutes {int(secs_mean_track)} seconds\")\n",
    "print(f\"Median length: {int(mins_median_track)} minutes {int(secs_median_track)} seconds\")\n",
    "print(f\"Max length: {int(mins_max_track)} minutes {int(secs_max_track)} seconds\")\n",
    "print(f\"Min length: {int(mins_min_track)} minutes {int(secs_min_track)} seconds\")\n",
    "print(f\"Skew: {toptracks_df.duration_ms.skew()}\")"
   ]
  },
  {
   "cell_type": "code",
   "execution_count": 784,
   "metadata": {},
   "outputs": [
    {
     "data": {
      "text/plain": [
       "<matplotlib.legend.Legend at 0x120eb601f70>"
      ]
     },
     "execution_count": 784,
     "metadata": {},
     "output_type": "execute_result"
    },
    {
     "data": {
      "image/png": "[encoded data removed]",
      "text/plain": [
       "<Figure size 640x480 with 1 Axes>"
      ]
     },
     "metadata": {},
     "output_type": "display_data"
    }
   ],
   "source": [
    "plt.hist(toptracks_df.duration_ms / 1000 / 60)\n",
    "plt.xlabel('Track Length (minutes)')\n",
    "plt.ylabel('Number of tracks')\n",
    "plt.title('Track Length')\n",
    "plt.axvline(toptracks_df.duration_ms.mean() / 1000 / 60, color='r', linestyle='dashed', linewidth=1, label = 'Mean')\n",
    "plt.axvline(toptracks_df.duration_ms.median() / 1000 / 60, color='b', linestyle='dashed', linewidth=1, label = 'Median')\n",
    "plt.legend()"
   ]
  },
  {
   "cell_type": "markdown",
   "metadata": {},
   "source": [
    "If we remove the 2 outliers from this dataset, we can see that skew decreases significantly and is distributed much more equally. The mean and median are now also equal."
   ]
  },
  {
   "cell_type": "code",
   "execution_count": 785,
   "metadata": {},
   "outputs": [
    {
     "name": "stdout",
     "output_type": "stream",
     "text": [
      "Mean length: 3 minutes 15 seconds\n",
      "Median length: 3 minutes 15 seconds\n",
      "Max length: 4 minutes 7 seconds\n",
      "Min length: 2 minutes 20 seconds\n",
      "Skew: 0.1855104213978467\n"
     ]
    }
   ],
   "source": [
    "mins_mean_track, secs_mean_track = divmod(toptracks_df[toptracks_df.duration_ms < 275000].duration_ms.mean() / 1000 / 60, 1)\n",
    "secs_mean_track = secs_mean_track * 60\n",
    "\n",
    "mins_median_track, secs_median_track = divmod(toptracks_df[toptracks_df.duration_ms < 275000].duration_ms.median() / 1000 / 60, 1)\n",
    "secs_median_track = secs_median_track * 60\n",
    "\n",
    "mins_max_track, secs_max_track = divmod(toptracks_df[toptracks_df.duration_ms < 275000].duration_ms.max() / 1000 / 60, 1)\n",
    "secs_max_track = secs_max_track * 60\n",
    "\n",
    "mins_min_track, secs_min_track = divmod(toptracks_df[toptracks_df.duration_ms < 275000].duration_ms.min() / 1000 / 60, 1)\n",
    "secs_min_track = secs_min_track * 60\n",
    "\n",
    "print(f\"Mean length: {int(mins_mean_track)} minutes {int(secs_mean_track)} seconds\")\n",
    "print(f\"Median length: {int(mins_median_track)} minutes {int(secs_median_track)} seconds\")\n",
    "print(f\"Max length: {int(mins_max_track)} minutes {int(secs_max_track)} seconds\")\n",
    "print(f\"Min length: {int(mins_min_track)} minutes {int(secs_min_track)} seconds\")\n",
    "print(f\"Skew: {toptracks_df[toptracks_df.duration_ms < 275000].duration_ms.skew()}\")"
   ]
  },
  {
   "cell_type": "code",
   "execution_count": 786,
   "metadata": {},
   "outputs": [
    {
     "data": {
      "text/plain": [
       "<matplotlib.legend.Legend at 0x120dc2c12b0>"
      ]
     },
     "execution_count": 786,
     "metadata": {},
     "output_type": "execute_result"
    },
    {
     "data": {
      "image/png": "[encoded data removed]",
      "text/plain": [
       "<Figure size 640x480 with 1 Axes>"
      ]
     },
     "metadata": {},
     "output_type": "display_data"
    }
   ],
   "source": [
    "plt.hist(toptracks_df[toptracks_df.duration_ms < 275000].duration_ms / 1000 / 60, bins=7)\n",
    "plt.xlabel('Track Length (minutes)')\n",
    "plt.ylabel('Number of tracks')\n",
    "plt.title('Track Length')\n",
    "plt.axvline(toptracks_df[toptracks_df.duration_ms < 275000].duration_ms.mean() / 1000 /60 , color='r', linestyle='dashed', linewidth=1, label = 'Mean')\n",
    "plt.axvline(toptracks_df[toptracks_df.duration_ms < 275000].duration_ms.median() / 1000 /60 , color='b', linestyle='dashed', linewidth=1, label = 'Median')\n",
    "plt.legend()"
   ]
  },
  {
   "cell_type": "markdown",
   "metadata": {},
   "source": [
    "##### Question 1: Which track is the longest?<a name=\"tracks-length-q1\"></a>\n",
    "\n",
    "The track 'SICKO MODE' by Travis Scott is the longest track, at 5 minutes 12 seconds. "
   ]
  },
  {
   "cell_type": "code",
   "execution_count": 787,
   "metadata": {},
   "outputs": [
    {
     "data": {
      "text/plain": [
       "artist         Travis Scott\n",
       "track_name       SICKO MODE\n",
       "duration_ms          312820\n",
       "Name: 49, dtype: object"
      ]
     },
     "execution_count": 787,
     "metadata": {},
     "output_type": "execute_result"
    }
   ],
   "source": [
    "toptracks_df.loc[toptracks_df.duration_ms.idxmax(),['artist','track_name','duration_ms']]"
   ]
  },
  {
   "cell_type": "code",
   "execution_count": 788,
   "metadata": {},
   "outputs": [
    {
     "name": "stdout",
     "output_type": "stream",
     "text": [
      "5 minutes 12 seconds\n"
     ]
    }
   ],
   "source": [
    "mins_longest_track, secs_longest_track = divmod(toptracks_df.loc[toptracks_df.duration_ms.idxmax()].duration_ms / 1000 / 60, 1)\n",
    "secs_longest_track = secs_longest_track * 60\n",
    "print(f\"{int(mins_longest_track)} minutes {int(secs_longest_track)} seconds\")\n"
   ]
  },
  {
   "cell_type": "markdown",
   "metadata": {},
   "source": [
    "##### Question 2: Which track is the shortest?<a name=\"tracks-length-q2\"></a>\n",
    "\n",
    "The track 'Mood (feat. iann dior)' by 24kGoldn was the shortest track, at 2 minutes 20 seconds."
   ]
  },
  {
   "cell_type": "code",
   "execution_count": 789,
   "metadata": {},
   "outputs": [
    {
     "data": {
      "text/plain": [
       "artist                       24kGoldn\n",
       "track_name     Mood (feat. iann dior)\n",
       "duration_ms                    140526\n",
       "Name: 23, dtype: object"
      ]
     },
     "execution_count": 789,
     "metadata": {},
     "output_type": "execute_result"
    }
   ],
   "source": [
    "toptracks_df.loc[toptracks_df.duration_ms.idxmin(),['artist','track_name','duration_ms']]"
   ]
  },
  {
   "cell_type": "code",
   "execution_count": 790,
   "metadata": {},
   "outputs": [
    {
     "name": "stdout",
     "output_type": "stream",
     "text": [
      "2 minutes 20 seconds\n"
     ]
    }
   ],
   "source": [
    "mins_shortest_track, secs_shortest_track = divmod(toptracks_df.loc[toptracks_df.duration_ms.idxmin()].duration_ms / 1000 / 60, 1)\n",
    "secs_shortest_track = secs_shortest_track * 60\n",
    "print(f\"{int(mins_shortest_track)} minutes {int(secs_shortest_track)} seconds\")"
   ]
  },
  {
   "cell_type": "markdown",
   "metadata": {},
   "source": [
    "### Correlations<a name=\"correlations\"></a>\n",
    "\n",
    "For this section, I will only be considering the numeric features. Variables can be considered strongly correlated if they have correlation of larger than $\\pm$ 0.6. Using this definition, only 2 sets of features are strongly correlated.\n",
    "\n",
    "Strong positive correlation(s):\n",
    "- Energy and loudness\n",
    "\n",
    "Strong negative correlation(s):\n",
    "- Energy and acousticness"
   ]
  },
  {
   "cell_type": "code",
   "execution_count": 791,
   "metadata": {},
   "outputs": [
    {
     "data": {
      "text/html": [
       "<div>\n",
       "<style scoped>\n",
       "    .dataframe tbody tr th:only-of-type {\n",
       "        vertical-align: middle;\n",
       "    }\n",
       "\n",
       "    .dataframe tbody tr th {\n",
       "        vertical-align: top;\n",
       "    }\n",
       "\n",
       "    .dataframe thead th {\n",
       "        text-align: right;\n",
       "    }\n",
       "</style>\n",
       "<table border=\"1\" class=\"dataframe\">\n",
       "  <thead>\n",
       "    <tr style=\"text-align: right;\">\n",
       "      <th></th>\n",
       "      <th>energy</th>\n",
       "      <th>danceability</th>\n",
       "      <th>loudness</th>\n",
       "      <th>acousticness</th>\n",
       "      <th>speechiness</th>\n",
       "      <th>instrumentalness</th>\n",
       "      <th>liveness</th>\n",
       "      <th>valence</th>\n",
       "      <th>tempo</th>\n",
       "      <th>duration_ms</th>\n",
       "    </tr>\n",
       "  </thead>\n",
       "  <tbody>\n",
       "    <tr>\n",
       "      <th>energy</th>\n",
       "      <td>NaN</td>\n",
       "      <td>0.152552</td>\n",
       "      <td>0.791640</td>\n",
       "      <td>-0.682479</td>\n",
       "      <td>0.074267</td>\n",
       "      <td>-0.385515</td>\n",
       "      <td>0.069487</td>\n",
       "      <td>0.393453</td>\n",
       "      <td>0.075191</td>\n",
       "      <td>0.081971</td>\n",
       "    </tr>\n",
       "    <tr>\n",
       "      <th>danceability</th>\n",
       "      <td>0.152552</td>\n",
       "      <td>NaN</td>\n",
       "      <td>0.167147</td>\n",
       "      <td>-0.359135</td>\n",
       "      <td>0.226148</td>\n",
       "      <td>-0.017706</td>\n",
       "      <td>-0.006648</td>\n",
       "      <td>0.479953</td>\n",
       "      <td>0.168956</td>\n",
       "      <td>-0.033763</td>\n",
       "    </tr>\n",
       "    <tr>\n",
       "      <th>loudness</th>\n",
       "      <td>0.791640</td>\n",
       "      <td>0.167147</td>\n",
       "      <td>NaN</td>\n",
       "      <td>-0.498695</td>\n",
       "      <td>-0.021693</td>\n",
       "      <td>-0.553735</td>\n",
       "      <td>-0.069939</td>\n",
       "      <td>0.406772</td>\n",
       "      <td>0.102097</td>\n",
       "      <td>0.064130</td>\n",
       "    </tr>\n",
       "    <tr>\n",
       "      <th>acousticness</th>\n",
       "      <td>-0.682479</td>\n",
       "      <td>-0.359135</td>\n",
       "      <td>-0.498695</td>\n",
       "      <td>NaN</td>\n",
       "      <td>-0.135392</td>\n",
       "      <td>0.352184</td>\n",
       "      <td>-0.128384</td>\n",
       "      <td>-0.243192</td>\n",
       "      <td>-0.241119</td>\n",
       "      <td>-0.010988</td>\n",
       "    </tr>\n",
       "    <tr>\n",
       "      <th>speechiness</th>\n",
       "      <td>0.074267</td>\n",
       "      <td>0.226148</td>\n",
       "      <td>-0.021693</td>\n",
       "      <td>-0.135392</td>\n",
       "      <td>NaN</td>\n",
       "      <td>0.028948</td>\n",
       "      <td>-0.142957</td>\n",
       "      <td>0.053867</td>\n",
       "      <td>0.215504</td>\n",
       "      <td>0.366976</td>\n",
       "    </tr>\n",
       "    <tr>\n",
       "      <th>instrumentalness</th>\n",
       "      <td>-0.385515</td>\n",
       "      <td>-0.017706</td>\n",
       "      <td>-0.553735</td>\n",
       "      <td>0.352184</td>\n",
       "      <td>0.028948</td>\n",
       "      <td>NaN</td>\n",
       "      <td>-0.087034</td>\n",
       "      <td>-0.203283</td>\n",
       "      <td>0.018853</td>\n",
       "      <td>0.184709</td>\n",
       "    </tr>\n",
       "    <tr>\n",
       "      <th>liveness</th>\n",
       "      <td>0.069487</td>\n",
       "      <td>-0.006648</td>\n",
       "      <td>-0.069939</td>\n",
       "      <td>-0.128384</td>\n",
       "      <td>-0.142957</td>\n",
       "      <td>-0.087034</td>\n",
       "      <td>NaN</td>\n",
       "      <td>-0.033366</td>\n",
       "      <td>0.025457</td>\n",
       "      <td>-0.090188</td>\n",
       "    </tr>\n",
       "    <tr>\n",
       "      <th>valence</th>\n",
       "      <td>0.393453</td>\n",
       "      <td>0.479953</td>\n",
       "      <td>0.406772</td>\n",
       "      <td>-0.243192</td>\n",
       "      <td>0.053867</td>\n",
       "      <td>-0.203283</td>\n",
       "      <td>-0.033366</td>\n",
       "      <td>NaN</td>\n",
       "      <td>0.045089</td>\n",
       "      <td>-0.039794</td>\n",
       "    </tr>\n",
       "    <tr>\n",
       "      <th>tempo</th>\n",
       "      <td>0.075191</td>\n",
       "      <td>0.168956</td>\n",
       "      <td>0.102097</td>\n",
       "      <td>-0.241119</td>\n",
       "      <td>0.215504</td>\n",
       "      <td>0.018853</td>\n",
       "      <td>0.025457</td>\n",
       "      <td>0.045089</td>\n",
       "      <td>NaN</td>\n",
       "      <td>0.130328</td>\n",
       "    </tr>\n",
       "    <tr>\n",
       "      <th>duration_ms</th>\n",
       "      <td>0.081971</td>\n",
       "      <td>-0.033763</td>\n",
       "      <td>0.064130</td>\n",
       "      <td>-0.010988</td>\n",
       "      <td>0.366976</td>\n",
       "      <td>0.184709</td>\n",
       "      <td>-0.090188</td>\n",
       "      <td>-0.039794</td>\n",
       "      <td>0.130328</td>\n",
       "      <td>NaN</td>\n",
       "    </tr>\n",
       "  </tbody>\n",
       "</table>\n",
       "</div>"
      ],
      "text/plain": [
       "                    energy  danceability  loudness  acousticness  speechiness  \\\n",
       "energy                 NaN      0.152552  0.791640     -0.682479     0.074267   \n",
       "danceability      0.152552           NaN  0.167147     -0.359135     0.226148   \n",
       "loudness          0.791640      0.167147       NaN     -0.498695    -0.021693   \n",
       "acousticness     -0.682479     -0.359135 -0.498695           NaN    -0.135392   \n",
       "speechiness       0.074267      0.226148 -0.021693     -0.135392          NaN   \n",
       "instrumentalness -0.385515     -0.017706 -0.553735      0.352184     0.028948   \n",
       "liveness          0.069487     -0.006648 -0.069939     -0.128384    -0.142957   \n",
       "valence           0.393453      0.479953  0.406772     -0.243192     0.053867   \n",
       "tempo             0.075191      0.168956  0.102097     -0.241119     0.215504   \n",
       "duration_ms       0.081971     -0.033763  0.064130     -0.010988     0.366976   \n",
       "\n",
       "                  instrumentalness  liveness   valence     tempo  duration_ms  \n",
       "energy                   -0.385515  0.069487  0.393453  0.075191     0.081971  \n",
       "danceability             -0.017706 -0.006648  0.479953  0.168956    -0.033763  \n",
       "loudness                 -0.553735 -0.069939  0.406772  0.102097     0.064130  \n",
       "acousticness              0.352184 -0.128384 -0.243192 -0.241119    -0.010988  \n",
       "speechiness               0.028948 -0.142957  0.053867  0.215504     0.366976  \n",
       "instrumentalness               NaN -0.087034 -0.203283  0.018853     0.184709  \n",
       "liveness                 -0.087034       NaN -0.033366  0.025457    -0.090188  \n",
       "valence                  -0.203283 -0.033366       NaN  0.045089    -0.039794  \n",
       "tempo                     0.018853  0.025457  0.045089       NaN     0.130328  \n",
       "duration_ms               0.184709 -0.090188 -0.039794  0.130328          NaN  "
      ]
     },
     "execution_count": 791,
     "metadata": {},
     "output_type": "execute_result"
    }
   ],
   "source": [
    "numeric_corr = toptracks_df.corr(numeric_only=True).replace(1,np.nan).drop('key')\n",
    "del numeric_corr['key']\n",
    "\n",
    "numeric_corr"
   ]
  },
  {
   "cell_type": "code",
   "execution_count": 792,
   "metadata": {},
   "outputs": [
    {
     "name": "stdout",
     "output_type": "stream",
     "text": [
      "           energy  loudness\n",
      "energy        NaN   0.79164\n",
      "loudness  0.79164       NaN\n",
      "                energy  acousticness\n",
      "energy             NaN     -0.682479\n",
      "acousticness -0.682479           NaN\n"
     ]
    }
   ],
   "source": [
    "print(numeric_corr[numeric_corr > 0.6].dropna(how=\"all\").dropna(how=\"all\", axis=1))\n",
    "print(numeric_corr[numeric_corr < -0.6].dropna(how=\"all\").dropna(how=\"all\", axis=1))\n"
   ]
  },
  {
   "cell_type": "markdown",
   "metadata": {},
   "source": [
    "We can consider features negligibly correlated if they have a correlation smaller than $\\pm$ 0.3. Most features appear to have weak or no correlation with each other. The least correlated features are danceability and liveness. \n",
    "\n",
    "I think it is likely that more features would correlate if this analysis was done for each genre. For instance, I am suprised energy and valence (the measure of positivity) don't correlate - I suspect this may be different for different genres.\n",
    "\n",
    "Below is all features with weak or no correlation.\n",
    "\n",
    "- Energy and danceability\n",
    "- Energy and speechiness\n",
    "- Energy and liveness\n",
    "- Energy and tempo\n",
    "- Energy and duration\n",
    "- Danceability and loudness\n",
    "- Danceability and speechiness\n",
    "- Danceability and instrumentalness\n",
    "- Danceability and liveness\n",
    "- Danceability and tempo\n",
    "- Danceability and duration\n",
    "- Loudness and speechiness\n",
    "- Loudness and liveness\n",
    "- Loudness and tempo\n",
    "- Loudness and duration\n",
    "- Acousticness and speechiness\n",
    "- Acousticness and liveness\n",
    "- Acousticness and valence\n",
    "- Acousticness and tempo\n",
    "- Acousticness and duration\n",
    "- Speechiness and instrumentalness\n",
    "- Speechiness and liveness \n",
    "- Speechiness and valanece\n",
    "- Speechiness and tempo\n",
    "- Instrumentalness and liveness\n",
    "- Instrumentalness and valence\n",
    "- Instrumentalness and tempo\n",
    "- Instrumentalness and duration\n",
    "- Liveness and valence\n",
    "- Liveness and tempo\n",
    "- Liveness and duration\n",
    "- Valence and tempo\n",
    "- Valence and duration\n",
    "- Tempo and duration"
   ]
  },
  {
   "cell_type": "code",
   "execution_count": 793,
   "metadata": {},
   "outputs": [
    {
     "data": {
      "text/html": [
       "<div>\n",
       "<style scoped>\n",
       "    .dataframe tbody tr th:only-of-type {\n",
       "        vertical-align: middle;\n",
       "    }\n",
       "\n",
       "    .dataframe tbody tr th {\n",
       "        vertical-align: top;\n",
       "    }\n",
       "\n",
       "    .dataframe thead th {\n",
       "        text-align: right;\n",
       "    }\n",
       "</style>\n",
       "<table border=\"1\" class=\"dataframe\">\n",
       "  <thead>\n",
       "    <tr style=\"text-align: right;\">\n",
       "      <th></th>\n",
       "      <th>energy</th>\n",
       "      <th>danceability</th>\n",
       "      <th>loudness</th>\n",
       "      <th>acousticness</th>\n",
       "      <th>speechiness</th>\n",
       "      <th>instrumentalness</th>\n",
       "      <th>liveness</th>\n",
       "      <th>valence</th>\n",
       "      <th>tempo</th>\n",
       "      <th>duration_ms</th>\n",
       "    </tr>\n",
       "  </thead>\n",
       "  <tbody>\n",
       "    <tr>\n",
       "      <th>energy</th>\n",
       "      <td>NaN</td>\n",
       "      <td>0.152552</td>\n",
       "      <td>NaN</td>\n",
       "      <td>NaN</td>\n",
       "      <td>0.074267</td>\n",
       "      <td>NaN</td>\n",
       "      <td>0.069487</td>\n",
       "      <td>NaN</td>\n",
       "      <td>0.075191</td>\n",
       "      <td>0.081971</td>\n",
       "    </tr>\n",
       "    <tr>\n",
       "      <th>danceability</th>\n",
       "      <td>0.152552</td>\n",
       "      <td>NaN</td>\n",
       "      <td>0.167147</td>\n",
       "      <td>NaN</td>\n",
       "      <td>0.226148</td>\n",
       "      <td>-0.017706</td>\n",
       "      <td>-0.006648</td>\n",
       "      <td>NaN</td>\n",
       "      <td>0.168956</td>\n",
       "      <td>-0.033763</td>\n",
       "    </tr>\n",
       "    <tr>\n",
       "      <th>loudness</th>\n",
       "      <td>NaN</td>\n",
       "      <td>0.167147</td>\n",
       "      <td>NaN</td>\n",
       "      <td>NaN</td>\n",
       "      <td>-0.021693</td>\n",
       "      <td>NaN</td>\n",
       "      <td>-0.069939</td>\n",
       "      <td>NaN</td>\n",
       "      <td>0.102097</td>\n",
       "      <td>0.064130</td>\n",
       "    </tr>\n",
       "    <tr>\n",
       "      <th>acousticness</th>\n",
       "      <td>NaN</td>\n",
       "      <td>NaN</td>\n",
       "      <td>NaN</td>\n",
       "      <td>NaN</td>\n",
       "      <td>-0.135392</td>\n",
       "      <td>NaN</td>\n",
       "      <td>-0.128384</td>\n",
       "      <td>-0.243192</td>\n",
       "      <td>-0.241119</td>\n",
       "      <td>-0.010988</td>\n",
       "    </tr>\n",
       "    <tr>\n",
       "      <th>speechiness</th>\n",
       "      <td>0.074267</td>\n",
       "      <td>0.226148</td>\n",
       "      <td>-0.021693</td>\n",
       "      <td>-0.135392</td>\n",
       "      <td>NaN</td>\n",
       "      <td>0.028948</td>\n",
       "      <td>-0.142957</td>\n",
       "      <td>0.053867</td>\n",
       "      <td>0.215504</td>\n",
       "      <td>NaN</td>\n",
       "    </tr>\n",
       "    <tr>\n",
       "      <th>instrumentalness</th>\n",
       "      <td>NaN</td>\n",
       "      <td>-0.017706</td>\n",
       "      <td>NaN</td>\n",
       "      <td>NaN</td>\n",
       "      <td>0.028948</td>\n",
       "      <td>NaN</td>\n",
       "      <td>-0.087034</td>\n",
       "      <td>-0.203283</td>\n",
       "      <td>0.018853</td>\n",
       "      <td>0.184709</td>\n",
       "    </tr>\n",
       "    <tr>\n",
       "      <th>liveness</th>\n",
       "      <td>0.069487</td>\n",
       "      <td>-0.006648</td>\n",
       "      <td>-0.069939</td>\n",
       "      <td>-0.128384</td>\n",
       "      <td>-0.142957</td>\n",
       "      <td>-0.087034</td>\n",
       "      <td>NaN</td>\n",
       "      <td>-0.033366</td>\n",
       "      <td>0.025457</td>\n",
       "      <td>-0.090188</td>\n",
       "    </tr>\n",
       "    <tr>\n",
       "      <th>valence</th>\n",
       "      <td>NaN</td>\n",
       "      <td>NaN</td>\n",
       "      <td>NaN</td>\n",
       "      <td>-0.243192</td>\n",
       "      <td>0.053867</td>\n",
       "      <td>-0.203283</td>\n",
       "      <td>-0.033366</td>\n",
       "      <td>NaN</td>\n",
       "      <td>0.045089</td>\n",
       "      <td>-0.039794</td>\n",
       "    </tr>\n",
       "    <tr>\n",
       "      <th>tempo</th>\n",
       "      <td>0.075191</td>\n",
       "      <td>0.168956</td>\n",
       "      <td>0.102097</td>\n",
       "      <td>-0.241119</td>\n",
       "      <td>0.215504</td>\n",
       "      <td>0.018853</td>\n",
       "      <td>0.025457</td>\n",
       "      <td>0.045089</td>\n",
       "      <td>NaN</td>\n",
       "      <td>0.130328</td>\n",
       "    </tr>\n",
       "    <tr>\n",
       "      <th>duration_ms</th>\n",
       "      <td>0.081971</td>\n",
       "      <td>-0.033763</td>\n",
       "      <td>0.064130</td>\n",
       "      <td>-0.010988</td>\n",
       "      <td>NaN</td>\n",
       "      <td>0.184709</td>\n",
       "      <td>-0.090188</td>\n",
       "      <td>-0.039794</td>\n",
       "      <td>0.130328</td>\n",
       "      <td>NaN</td>\n",
       "    </tr>\n",
       "  </tbody>\n",
       "</table>\n",
       "</div>"
      ],
      "text/plain": [
       "                    energy  danceability  loudness  acousticness  speechiness  \\\n",
       "energy                 NaN      0.152552       NaN           NaN     0.074267   \n",
       "danceability      0.152552           NaN  0.167147           NaN     0.226148   \n",
       "loudness               NaN      0.167147       NaN           NaN    -0.021693   \n",
       "acousticness           NaN           NaN       NaN           NaN    -0.135392   \n",
       "speechiness       0.074267      0.226148 -0.021693     -0.135392          NaN   \n",
       "instrumentalness       NaN     -0.017706       NaN           NaN     0.028948   \n",
       "liveness          0.069487     -0.006648 -0.069939     -0.128384    -0.142957   \n",
       "valence                NaN           NaN       NaN     -0.243192     0.053867   \n",
       "tempo             0.075191      0.168956  0.102097     -0.241119     0.215504   \n",
       "duration_ms       0.081971     -0.033763  0.064130     -0.010988          NaN   \n",
       "\n",
       "                  instrumentalness  liveness   valence     tempo  duration_ms  \n",
       "energy                         NaN  0.069487       NaN  0.075191     0.081971  \n",
       "danceability             -0.017706 -0.006648       NaN  0.168956    -0.033763  \n",
       "loudness                       NaN -0.069939       NaN  0.102097     0.064130  \n",
       "acousticness                   NaN -0.128384 -0.243192 -0.241119    -0.010988  \n",
       "speechiness               0.028948 -0.142957  0.053867  0.215504          NaN  \n",
       "instrumentalness               NaN -0.087034 -0.203283  0.018853     0.184709  \n",
       "liveness                 -0.087034       NaN -0.033366  0.025457    -0.090188  \n",
       "valence                  -0.203283 -0.033366       NaN  0.045089    -0.039794  \n",
       "tempo                     0.018853  0.025457  0.045089       NaN     0.130328  \n",
       "duration_ms               0.184709 -0.090188 -0.039794  0.130328          NaN  "
      ]
     },
     "execution_count": 793,
     "metadata": {},
     "output_type": "execute_result"
    }
   ],
   "source": [
    "numeric_corr[(numeric_corr < 0.3) & (numeric_corr > -0.3)].dropna(how=\"all\").dropna(how=\"all\", axis=1)"
   ]
  },
  {
   "cell_type": "markdown",
   "metadata": {},
   "source": [
    "Everything else is moderately correlated (between $\\pm$ 0.3 and $\\pm$ 0.6):\n",
    "- Energy and instrumentalness\n",
    "- Energy and valence\n",
    "- Danceability and acousticness\n",
    "- Danceability and valence\n",
    "- Loudness and acousticnesss\n",
    "- Loudness and instrumentalness\n",
    "- Loudness and valence\n",
    "- Acousticness and instrumentalness\n",
    "- Speechiness and duration\n"
   ]
  },
  {
   "cell_type": "code",
   "execution_count": 794,
   "metadata": {},
   "outputs": [
    {
     "data": {
      "text/html": [
       "<div>\n",
       "<style scoped>\n",
       "    .dataframe tbody tr th:only-of-type {\n",
       "        vertical-align: middle;\n",
       "    }\n",
       "\n",
       "    .dataframe tbody tr th {\n",
       "        vertical-align: top;\n",
       "    }\n",
       "\n",
       "    .dataframe thead th {\n",
       "        text-align: right;\n",
       "    }\n",
       "</style>\n",
       "<table border=\"1\" class=\"dataframe\">\n",
       "  <thead>\n",
       "    <tr style=\"text-align: right;\">\n",
       "      <th></th>\n",
       "      <th>energy</th>\n",
       "      <th>danceability</th>\n",
       "      <th>loudness</th>\n",
       "      <th>acousticness</th>\n",
       "      <th>speechiness</th>\n",
       "      <th>instrumentalness</th>\n",
       "      <th>valence</th>\n",
       "      <th>duration_ms</th>\n",
       "    </tr>\n",
       "  </thead>\n",
       "  <tbody>\n",
       "    <tr>\n",
       "      <th>energy</th>\n",
       "      <td>NaN</td>\n",
       "      <td>NaN</td>\n",
       "      <td>NaN</td>\n",
       "      <td>NaN</td>\n",
       "      <td>NaN</td>\n",
       "      <td>-0.385515</td>\n",
       "      <td>0.393453</td>\n",
       "      <td>NaN</td>\n",
       "    </tr>\n",
       "    <tr>\n",
       "      <th>danceability</th>\n",
       "      <td>NaN</td>\n",
       "      <td>NaN</td>\n",
       "      <td>NaN</td>\n",
       "      <td>-0.359135</td>\n",
       "      <td>NaN</td>\n",
       "      <td>NaN</td>\n",
       "      <td>0.479953</td>\n",
       "      <td>NaN</td>\n",
       "    </tr>\n",
       "    <tr>\n",
       "      <th>loudness</th>\n",
       "      <td>NaN</td>\n",
       "      <td>NaN</td>\n",
       "      <td>NaN</td>\n",
       "      <td>-0.498695</td>\n",
       "      <td>NaN</td>\n",
       "      <td>-0.553735</td>\n",
       "      <td>0.406772</td>\n",
       "      <td>NaN</td>\n",
       "    </tr>\n",
       "    <tr>\n",
       "      <th>acousticness</th>\n",
       "      <td>NaN</td>\n",
       "      <td>-0.359135</td>\n",
       "      <td>-0.498695</td>\n",
       "      <td>NaN</td>\n",
       "      <td>NaN</td>\n",
       "      <td>0.352184</td>\n",
       "      <td>NaN</td>\n",
       "      <td>NaN</td>\n",
       "    </tr>\n",
       "    <tr>\n",
       "      <th>speechiness</th>\n",
       "      <td>NaN</td>\n",
       "      <td>NaN</td>\n",
       "      <td>NaN</td>\n",
       "      <td>NaN</td>\n",
       "      <td>NaN</td>\n",
       "      <td>NaN</td>\n",
       "      <td>NaN</td>\n",
       "      <td>0.366976</td>\n",
       "    </tr>\n",
       "    <tr>\n",
       "      <th>instrumentalness</th>\n",
       "      <td>-0.385515</td>\n",
       "      <td>NaN</td>\n",
       "      <td>-0.553735</td>\n",
       "      <td>0.352184</td>\n",
       "      <td>NaN</td>\n",
       "      <td>NaN</td>\n",
       "      <td>NaN</td>\n",
       "      <td>NaN</td>\n",
       "    </tr>\n",
       "    <tr>\n",
       "      <th>valence</th>\n",
       "      <td>0.393453</td>\n",
       "      <td>0.479953</td>\n",
       "      <td>0.406772</td>\n",
       "      <td>NaN</td>\n",
       "      <td>NaN</td>\n",
       "      <td>NaN</td>\n",
       "      <td>NaN</td>\n",
       "      <td>NaN</td>\n",
       "    </tr>\n",
       "    <tr>\n",
       "      <th>duration_ms</th>\n",
       "      <td>NaN</td>\n",
       "      <td>NaN</td>\n",
       "      <td>NaN</td>\n",
       "      <td>NaN</td>\n",
       "      <td>0.366976</td>\n",
       "      <td>NaN</td>\n",
       "      <td>NaN</td>\n",
       "      <td>NaN</td>\n",
       "    </tr>\n",
       "  </tbody>\n",
       "</table>\n",
       "</div>"
      ],
      "text/plain": [
       "                    energy  danceability  loudness  acousticness  speechiness  \\\n",
       "energy                 NaN           NaN       NaN           NaN          NaN   \n",
       "danceability           NaN           NaN       NaN     -0.359135          NaN   \n",
       "loudness               NaN           NaN       NaN     -0.498695          NaN   \n",
       "acousticness           NaN     -0.359135 -0.498695           NaN          NaN   \n",
       "speechiness            NaN           NaN       NaN           NaN          NaN   \n",
       "instrumentalness -0.385515           NaN -0.553735      0.352184          NaN   \n",
       "valence           0.393453      0.479953  0.406772           NaN          NaN   \n",
       "duration_ms            NaN           NaN       NaN           NaN     0.366976   \n",
       "\n",
       "                  instrumentalness   valence  duration_ms  \n",
       "energy                   -0.385515  0.393453          NaN  \n",
       "danceability                   NaN  0.479953          NaN  \n",
       "loudness                 -0.553735  0.406772          NaN  \n",
       "acousticness              0.352184       NaN          NaN  \n",
       "speechiness                    NaN       NaN     0.366976  \n",
       "instrumentalness               NaN       NaN          NaN  \n",
       "valence                        NaN       NaN          NaN  \n",
       "duration_ms                    NaN       NaN          NaN  "
      ]
     },
     "execution_count": 794,
     "metadata": {},
     "output_type": "execute_result"
    }
   ],
   "source": [
    "numeric_corr[((numeric_corr <= 0.6) & (numeric_corr >= 0.3))|((numeric_corr >= -0.6) & (numeric_corr <= -0.3))].dropna(how=\"all\").dropna(how=\"all\", axis=1)"
   ]
  },
  {
   "cell_type": "markdown",
   "metadata": {},
   "source": [
    "## Improvements and Future Analysis<a name=\"improvements\"></a>\n",
    "\n",
    "### 1. Play counts\n",
    "\n",
    "Currently we don't really have data needed to see how popular these tracks are compared to each, or how popular each artist or album is compared to the others. I beleive including the number of times each track was played would help illuminate which artist/album was the most popular. It would also be interesting to see how play counts differed across the top 50 - are those numbers relatively consistent, or are the top few tracks played significantly more?\n",
    "\n",
    "### 2. More detailed genres\n",
    "\n",
    "Many of the genres were clearly part of the same larger genre, and many tracks had multiple genres. Future analysis would benefit from having more data about the parent genres for each track, so we could get a better idea of which high level genres are the most popular. If I had more time as well, I would process the genre data more to split out tracks with multiple genres.\n",
    "\n",
    "### 3. More tracks\n",
    "\n",
    "It would be interesting to analyse a larger pool of tracks, as most of the provided genres can't be analysed effectively as they only have 1 track. This would be somewhat improved by extracting out the different genres and getting the high level genre data, but more tracks would make it more likely that the outliers, like the track 'Safaera', would be less of an outlier and easier to analyse.  \n",
    "\n",
    "### 4. Genre specific correlations\n",
    "\n",
    "I reviewed correlation across the whole dataset, instead of by genre. I think it's likely that different genres will have different correlations. This is already somewhat apparant when comparing the 4 selected genres for danceability, loudness and acousticness, as these 4 genres had quite different data. In future analysis, I would make sure to review by genre and compare across genres. "
   ]
  },
  {
   "cell_type": "markdown",
   "metadata": {},
   "source": []
  }
 ],
 "metadata": {
  "kernelspec": {
   "display_name": "Python 3",
   "language": "python",
   "name": "python3"
  },
  "language_info": {
   "codemirror_mode": {
    "name": "ipython",
    "version": 3
   },
   "file_extension": ".py",
   "mimetype": "text/x-python",
   "name": "python",
   "nbconvert_exporter": "python",
   "pygments_lexer": "ipython3",
   "version": "3.12.2"
  }
 },
 "nbformat": 4,
 "nbformat_minor": 2
}
